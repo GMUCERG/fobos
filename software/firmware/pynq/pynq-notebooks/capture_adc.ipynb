{
 "cells": [
  {
   "cell_type": "code",
   "execution_count": 22,
   "metadata": {},
   "outputs": [],
   "source": [
    "# needs a dinFile.txt in fobosworkspace/aes\n",
    "# make sure that xilinx owns the aes directory\n",
    "import os\n",
    "import sys\n",
    "import shutil\n",
    "import binascii\n",
    "import time\n",
    "import numpy as np\n",
    "from pynq import allocate\n",
    "from pynq import Overlay\n",
    "from pynq import Clocks\n",
    "from foboslib import projmgr\n",
    "from foboslib.scope import openadc as scope\n",
    "from foboslib.dut import nexys4dut as dut\n",
    "from foboslib import pynqlocal as pynqctrl\n",
    "#######################################################\n",
    "# File Names and Locations\n",
    "OVERLAY_FILE    = \"../pynq_ctrl.bit\"\n",
    "WORKSPACE       = \"fobosworkspace\"\n",
    "PROJECT_NAME    = \"aes\"\n",
    "DIN_FILE_NAME   = \"dinFile.txt\"\n",
    "CIPHER_FILE     = \"ciphertext.txt\"\n",
    "TRACE_FILE      = \"powerTraces.npy\"\n",
    "DUT_BIT_FILE    = \"half_duplex_dut.bit\"\n",
    "#DUT_BIT_FILE    = \"FOBOS_DUT.bit\"\n",
    "# Cipher Specific Information\n",
    "OUT_LEN         = 16 # in bytes \n",
    "# Acquisition Configuration\n",
    "TRACE_NUM       = 10\n",
    "DUT_CLK         = 0.4\n",
    "SAMPLING_FREQ   = 70\n",
    "SAMPLE_NUM      = 2000 # samples per trace\n",
    "ADC_GAIN        = 50\n",
    "ADC_HILO        = 0  # 0 - low amplification, 1 - high amplification"
   ]
  },
  {
   "cell_type": "code",
   "execution_count": 15,
   "metadata": {},
   "outputs": [],
   "source": [
    "# Configure workspace\n",
    "pm = projmgr.ProjectManager()\n",
    "pm.setWorkSpaceDir(WORKSPACE)\n",
    "pm.setProjName(PROJECT_NAME)\n",
    "projDir = pm.getProjDir()"
   ]
  },
  {
   "cell_type": "code",
   "execution_count": 3,
   "metadata": {},
   "outputs": [],
   "source": [
    "# Setting up the Control Board\n",
    "overlay = Overlay(OVERLAY_FILE)\n",
    "ctrl = pynqctrl.PYNQCtrl(overlay)\n",
    "Clocks.fclk0_mhz=100  #loading an overlay resets the PL clock fclk0"
   ]
  },
  {
   "cell_type": "code",
   "execution_count": 18,
   "metadata": {},
   "outputs": [
    {
     "name": "stdout",
     "output_type": "stream",
     "text": [
      "clkout 102\n",
      "2 1 0\n",
      "clkout 50\n",
      "divInt\n",
      "125\n",
      "divFrac\n",
      "0.0\n",
      "divInt\n",
      "125\n",
      "divFrac\n",
      "0\n",
      "Set clk frequency to 0.4\n",
      "outlen\n",
      "16\n",
      "<class 'int'>\n"
     ]
    }
   ],
   "source": [
    "ctrl.setDUTClk(DUT_CLK) # kills OUT_LEN does it reset all DUTComm registers?????\n",
    "ctrl.setOutLen(OUT_LEN)\n",
    "ctrl.setTriggerMode(pynqctrl.PYNQCtrl.TRG_FULL)\n",
    "ctrl.setDUTInterface(pynqctrl.PYNQCtrl.INTERFACE_4BIT)"
   ]
  },
  {
   "cell_type": "code",
   "execution_count": 23,
   "metadata": {},
   "outputs": [
    {
     "name": "stdout",
     "output_type": "stream",
     "text": [
      "clkout a01\n",
      "1 10 0\n",
      "clkout 1000\n",
      "divInt\n",
      "14\n",
      "divFrac\n",
      "0.2857142857142865\n",
      "divInt\n",
      "14\n",
      "divFrac\n",
      "285\n",
      "Set clk frequency to 70.0\n"
     ]
    }
   ],
   "source": [
    "# Configure trace sampling\n",
    "fobosAcq = scope.OpenADCScope(overlay)\n",
    "#We need to reserve number of block + 2 locations\n",
    "outputBuffer = allocate(shape=(int(SAMPLE_NUM / 4 + 2),), dtype=np.uint64)\n",
    "fobosAcq.setAdcClockFreq(SAMPLING_FREQ)\n",
    "fobosAcq.setGain(ADC_GAIN)\n",
    "fobosAcq.setHiLo(ADC_HILO)"
   ]
  },
  {
   "cell_type": "code",
   "execution_count": 17,
   "metadata": {},
   "outputs": [],
   "source": [
    "##########################\n",
    "# configure and program DUT Nexys 4\n",
    "#dut = nexys4dut.Nexys4DUT()\n",
    "#bitFile = os.path.join(projDir, DUT_BIT_FILE)\n",
    "#dut.setBitFile(bitFile)\n",
    "#dut.program()\n",
    "ctrl.setDUT(0x00)\n",
    "\n",
    "##########################\n",
    "# configure and program DUT CW305\n",
    "\n",
    "#ctrl.setDUT(0x01)\n",
    "#ctrl.dutctrl.write(0x38,0x01)"
   ]
  },
  {
   "cell_type": "code",
   "execution_count": 26,
   "metadata": {},
   "outputs": [
    {
     "name": "stdout",
     "output_type": "stream",
     "text": [
      "Successfully created new capture directory at fobosworkspace/aes/capture/attempt-09\n",
      "Copying test-vector file to attempt directory ...\n",
      "Loading test-vector file ...\n",
      "Done loading.\n",
      "Time elapsed = 0.07263016700744629 seconds.\n"
     ]
    }
   ],
   "source": [
    "##########################\n",
    "#setup i/o files\n",
    "tvFileName = os.path.join(projDir, DIN_FILE_NAME)\n",
    "tvFile = open(tvFileName, \"r\")\n",
    "captureDir = pm.getCaptureDir()\n",
    "cipherFileName = os.path.join(captureDir, CIPHER_FILE)\n",
    "cipherFile = open(cipherFileName, \"w\")\n",
    "traceFileName = os.path.join(captureDir, TRACE_FILE)\n",
    "traceFile = open(traceFileName, \"a+b\")\n",
    "print(\"Copying test-vector file to attempt directory ...\")\n",
    "shutil.copy(tvFileName, captureDir)\n",
    "#########################\n",
    "print(\"Loading test-vector file ...\")\n",
    "#testVectors = tvFile.read().splitlines(keepends=False)\n",
    "testVectors = tvFile.readlines()\n",
    "print(\"Done loading.\")\n",
    "tic = time.time()\n",
    "#traces = np.empty((TRACE_NUM, SAMPLE_NUM))\n",
    "for traceNum in range(TRACE_NUM):\n",
    "    fobosAcq.arm(outputBuffer,int(SAMPLE_NUM/4))\n",
    "    result = ctrl.processData(testVectors[traceNum])\n",
    "    fobosAcq.waitForTrace()\n",
    "    #change data type before saving\n",
    "    trace = outputBuffer.view('uint16')\n",
    "    #trace= trace[:SAMPLE_NUM]\n",
    "    #traces[traceNum, :] = trace\n",
    "    cipherFile.write(result + '\\n')\n",
    "    #c = fvrFile.read(1)\n",
    "    #if c == \"0\":\n",
    "        #numpy.save(traceFile0, trace)\n",
    "     #   ttestCalc.addTrace(trace, 0)\n",
    "    #else:\n",
    "     #   ttestCalc.addTrace(trace, 1)\n",
    "        #numpy.save(traceFile1, trace)\n",
    "    np.save(traceFile, trace)\n",
    "    if traceNum % 20000 == 0:\n",
    "        sys.stdout.write(\"Progress: {}%\\r\".format(traceNum/TRACE_NUM *100 ))\n",
    "        sys.stdout.flush()\n",
    "        #ttestPlotFile = os.path.join(captureDir, \"ttest{}\".format(traceNum))\n",
    "        #ttestCalc.plot(ttestPlotFile)\n",
    "    #time.sleep(4)\n",
    "#numpy.save(traceFile,traces)\n",
    "#traces = None #Free memory\n",
    "outputBuffer.freebuffer()\n",
    "cipherFile.close()\n",
    "tvFile.close()\n",
    "traceFile.close()\n",
    "    \n",
    "toc = time.time()\n",
    "\n",
    "print(\"Time elapsed = {} seconds.\".format(toc - tic))"
   ]
  },
  {
   "cell_type": "code",
   "execution_count": 27,
   "metadata": {},
   "outputs": [
    {
     "name": "stdout",
     "output_type": "stream",
     "text": [
      "8a d1 16 ce d6 86 7b d4 5d 71 4b c9 3c 45 ca c9\n"
     ]
    }
   ],
   "source": [
    "print(result)"
   ]
  },
  {
   "cell_type": "code",
   "execution_count": 28,
   "metadata": {},
   "outputs": [
    {
     "name": "stdout",
     "output_type": "stream",
     "text": [
      "fobosworkspace/aes/capture/attempt-09/powerTraces.npy\n"
     ]
    },
    {
     "data": {
      "image/png": "[encoded data removed]",
      "text/plain": [
       "<Figure size 720x576 with 1 Axes>"
      ]
     },
     "metadata": {
      "needs_background": "light"
     },
     "output_type": "display_data"
    }
   ],
   "source": [
    "import matplotlib.pyplot as plt\n",
    "%matplotlib inline\n",
    "traceFile = open(traceFileName, 'rb')\n",
    "print(traceFileName)\n",
    "maxtrace = 100\n",
    "plt.rcParams.update({'font.size': 18})\n",
    "plt.figure(figsize=(10,8))\n",
    "plt.xlabel('Sample')\n",
    "plt.ylabel('Amplitude')\n",
    "plt.title('Captured Traces')\n",
    "for i in range(min(maxtrace, TRACE_NUM)):\n",
    "    trace = np.load(traceFile)\n",
    "    plt.plot(trace)\n",
    "plt.savefig(os.path.join(captureDir,\"aes.png\"))\n",
    "plt.show()\n",
    "traceFile.close()"
   ]
  },
  {
   "cell_type": "code",
   "execution_count": 17,
   "metadata": {},
   "outputs": [
    {
     "data": {
      "text/plain": [
       "10"
      ]
     },
     "execution_count": 17,
     "metadata": {},
     "output_type": "execute_result"
    }
   ],
   "source": [
    "TRACE_NUM"
   ]
  },
  {
   "cell_type": "code",
   "execution_count": 18,
   "metadata": {},
   "outputs": [
    {
     "data": {
      "text/plain": [
       "60"
      ]
     },
     "execution_count": 18,
     "metadata": {},
     "output_type": "execute_result"
    }
   ],
   "source": [
    "ctrl.dutctrl_WORKCTR"
   ]
  },
  {
   "cell_type": "code",
   "execution_count": 19,
   "metadata": {},
   "outputs": [
    {
     "data": {
      "text/plain": [
       "39"
      ]
     },
     "execution_count": 19,
     "metadata": {},
     "output_type": "execute_result"
    }
   ],
   "source": [
    "ctrl.PWMGR_GET_COUNT"
   ]
  },
  {
   "cell_type": "code",
   "execution_count": null,
   "metadata": {},
   "outputs": [],
   "source": []
  }
 ],
 "metadata": {
  "kernelspec": {
   "display_name": "Python 3 (ipykernel)",
   "language": "python",
   "name": "python3"
  },
  "language_info": {
   "codemirror_mode": {
    "name": "ipython",
    "version": 3
   },
   "file_extension": ".py",
   "mimetype": "text/x-python",
   "name": "python",
   "nbconvert_exporter": "python",
   "pygments_lexer": "ipython3",
   "version": "3.10.4"
  }
 },
 "nbformat": 4,
 "nbformat_minor": 2
}
