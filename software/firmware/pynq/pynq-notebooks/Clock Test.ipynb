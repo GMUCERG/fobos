{
 "cells": [
  {
   "cell_type": "code",
   "execution_count": 38,
   "id": "274753cc",
   "metadata": {},
   "outputs": [],
   "source": [
    "import time\n",
    "from pynq import Overlay\n",
    "from pynq import Clocks\n",
    "from foboslib import pynqlocal as pynqctrl\n",
    "from foboslib.scope import openadc as scope"
   ]
  },
  {
   "cell_type": "code",
   "execution_count": 39,
   "id": "4496b2b4",
   "metadata": {},
   "outputs": [],
   "source": [
    "OVERLAY_FILE    = \"../pynq_ctrl.bit\""
   ]
  },
  {
   "cell_type": "code",
   "execution_count": 44,
   "id": "429f48b7",
   "metadata": {},
   "outputs": [
    {
     "name": "stderr",
     "output_type": "stream",
     "text": [
      "Exception ignored in: <function PYNQCtrl.__del__ at 0xad1ddda8>\n",
      "Traceback (most recent call last):\n",
      "  File \"/home/xilinx/fobos/software/pynq-notebooks/foboslib/pynqlocal.py\", line 71, in __del__\n",
      "    self.input_buffer.freebuffer()\n",
      "AttributeError: 'NoneType' object has no attribute 'freebuffer'\n"
     ]
    }
   ],
   "source": [
    "# Setting up the Control Board\n",
    "overlay = Overlay(OVERLAY_FILE)\n",
    "ctrl = pynqctrl.PYNQCtrl(overlay)"
   ]
  },
  {
   "cell_type": "code",
   "execution_count": 45,
   "id": "be5a3463",
   "metadata": {},
   "outputs": [
    {
     "name": "stdout",
     "output_type": "stream",
     "text": [
      "Bus clock = 62.5\n"
     ]
    }
   ],
   "source": [
    "print(\"Bus clock =\",Clocks.fclk0_mhz)"
   ]
  },
  {
   "cell_type": "code",
   "execution_count": 48,
   "id": "1ece7371",
   "metadata": {},
   "outputs": [],
   "source": [
    "Clocks.fclk0_mhz=100"
   ]
  },
  {
   "cell_type": "code",
   "execution_count": 46,
   "id": "ffe3051f",
   "metadata": {},
   "outputs": [
    {
     "name": "stdout",
     "output_type": "stream",
     "text": [
      "clkout 102\n",
      "2 1 0\n",
      "clkout 50\n",
      "divInt\n",
      "50\n",
      "divFrac\n",
      "0.0\n",
      "divInt\n",
      "50\n",
      "divFrac\n",
      "0\n",
      "Set clk frequency to 1.0\n"
     ]
    }
   ],
   "source": [
    "ctrl.setDUTClk(1) # kills OUT_LEN does it reset all DUTComm registers?????, YES"
   ]
  },
  {
   "cell_type": "code",
   "execution_count": 47,
   "id": "579055ca",
   "metadata": {},
   "outputs": [
    {
     "name": "stdout",
     "output_type": "stream",
     "text": [
      "clkout 102\n",
      "2 1 0\n",
      "clkout 50\n",
      "divInt\n",
      "50\n",
      "divFrac\n",
      "0.0\n",
      "divInt\n",
      "50\n",
      "divFrac\n",
      "0\n",
      "Set clk frequency to 1.0\n"
     ]
    }
   ],
   "source": [
    "fobosAcq = scope.OpenADCScope(overlay)\n",
    "fobosAcq.setAdcClockFreq(1)"
   ]
  },
  {
   "cell_type": "code",
   "execution_count": 49,
   "id": "43a7b489",
   "metadata": {},
   "outputs": [
    {
     "name": "stdout",
     "output_type": "stream",
     "text": [
      "clk =  10\n",
      "clkout 102\n",
      "2 1 0\n",
      "clkout 50\n",
      "divInt\n",
      "5\n",
      "divFrac\n",
      "0.0\n",
      "divInt\n",
      "5\n",
      "divFrac\n",
      "0\n",
      "Set clk frequency to 10.0\n",
      "clk =  20\n",
      "clkout a01\n",
      "1 10 0\n",
      "clkout 1000\n",
      "divInt\n",
      "50\n",
      "divFrac\n",
      "0.0\n",
      "divInt\n",
      "50\n",
      "divFrac\n",
      "0\n",
      "Set clk frequency to 20.0\n",
      "clk =  30\n",
      "clkout a01\n",
      "1 10 0\n",
      "clkout 1000\n",
      "divInt\n",
      "33\n",
      "divFrac\n",
      "0.3333333333333357\n",
      "divInt\n",
      "33\n",
      "divFrac\n",
      "333\n",
      "Set clk frequency to 29.999999999999996\n",
      "clk =  40\n",
      "clkout a01\n",
      "1 10 0\n",
      "clkout 1000\n",
      "divInt\n",
      "25\n",
      "divFrac\n",
      "0.0\n",
      "divInt\n",
      "25\n",
      "divFrac\n",
      "0\n",
      "Set clk frequency to 40.0\n",
      "clk =  50\n",
      "clkout a01\n",
      "1 10 0\n",
      "clkout 1000\n",
      "divInt\n",
      "20\n",
      "divFrac\n",
      "0.0\n",
      "divInt\n",
      "20\n",
      "divFrac\n",
      "0\n",
      "Set clk frequency to 50.0\n",
      "clk =  60\n",
      "clkout a01\n",
      "1 10 0\n",
      "clkout 1000\n",
      "divInt\n",
      "16\n",
      "divFrac\n",
      "0.6666666666666679\n",
      "divInt\n",
      "16\n",
      "divFrac\n",
      "666\n",
      "Set clk frequency to 59.99999999999999\n",
      "clk =  70\n",
      "clkout a01\n",
      "1 10 0\n",
      "clkout 1000\n",
      "divInt\n",
      "14\n",
      "divFrac\n",
      "0.2857142857142865\n",
      "divInt\n",
      "14\n",
      "divFrac\n",
      "285\n",
      "Set clk frequency to 70.0\n",
      "clk =  80\n",
      "clkout a01\n",
      "1 10 0\n",
      "clkout 1000\n",
      "divInt\n",
      "12\n",
      "divFrac\n",
      "0.5\n",
      "divInt\n",
      "12\n",
      "divFrac\n",
      "500\n",
      "Set clk frequency to 80.0\n",
      "clk =  90\n",
      "clkout a01\n",
      "1 10 0\n",
      "clkout 1000\n",
      "divInt\n",
      "11\n",
      "divFrac\n",
      "0.11111111111111072\n",
      "divInt\n",
      "11\n",
      "divFrac\n",
      "111\n",
      "Set clk frequency to 90.0\n",
      "clk =  100\n",
      "clkout a01\n",
      "1 10 0\n",
      "clkout 1000\n",
      "divInt\n",
      "10\n",
      "divFrac\n",
      "0.0\n",
      "divInt\n",
      "10\n",
      "divFrac\n",
      "0\n",
      "Set clk frequency to 100.0\n"
     ]
    }
   ],
   "source": [
    "for i in range (10,110, 10):\n",
    "    print(\"clk = \",i)\n",
    "    fobosAcq.setAdcClockFreq(i)\n",
    "    time.sleep(5)"
   ]
  },
  {
   "cell_type": "code",
   "execution_count": null,
   "id": "3d45fac5",
   "metadata": {},
   "outputs": [],
   "source": []
  }
 ],
 "metadata": {
  "kernelspec": {
   "display_name": "Python 3 (ipykernel)",
   "language": "python",
   "name": "python3"
  },
  "language_info": {
   "codemirror_mode": {
    "name": "ipython",
    "version": 3
   },
   "file_extension": ".py",
   "mimetype": "text/x-python",
   "name": "python",
   "nbconvert_exporter": "python",
   "pygments_lexer": "ipython3",
   "version": "3.10.4"
  }
 },
 "nbformat": 4,
 "nbformat_minor": 5
}
