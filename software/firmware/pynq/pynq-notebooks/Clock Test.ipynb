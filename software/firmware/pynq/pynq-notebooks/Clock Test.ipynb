{
 "cells": [
  {
   "cell_type": "code",
   "execution_count": 1,
   "id": "274753cc",
   "metadata": {},
   "outputs": [],
   "source": [
    "import time\n",
    "from pynq import Overlay\n",
    "from pynq import Clocks\n",
    "from pynq import allocate\n",
    "import numpy as np\n",
    "from pynq_drivers import pynqlocal as pynqctrl\n",
    "from pynq_drivers import openadc2 as scope"
   ]
  },
  {
   "cell_type": "code",
   "execution_count": 2,
   "id": "4496b2b4",
   "metadata": {},
   "outputs": [],
   "source": [
    "OVERLAY_FILE    = \"../pynq_ctrl.bit\""
   ]
  },
  {
   "cell_type": "code",
   "execution_count": 3,
   "id": "429f48b7",
   "metadata": {},
   "outputs": [
    {
     "data": {
      "application/javascript": [
       "\n",
       "try {\n",
       "require(['notebook/js/codecell'], function(codecell) {\n",
       "  codecell.CodeCell.options_default.highlight_modes[\n",
       "      'magic_text/x-csrc'] = {'reg':[/^%%microblaze/]};\n",
       "  Jupyter.notebook.events.one('kernel_ready.Kernel', function(){\n",
       "      Jupyter.notebook.get_cells().map(function(cell){\n",
       "          if (cell.cell_type == 'code'){ cell.auto_highlight(); } }) ;\n",
       "  });\n",
       "});\n",
       "} catch (e) {};\n"
      ]
     },
     "metadata": {},
     "output_type": "display_data"
    },
    {
     "data": {
      "application/javascript": [
       "\n",
       "try {\n",
       "require(['notebook/js/codecell'], function(codecell) {\n",
       "  codecell.CodeCell.options_default.highlight_modes[\n",
       "      'magic_text/x-csrc'] = {'reg':[/^%%pybind11/]};\n",
       "  Jupyter.notebook.events.one('kernel_ready.Kernel', function(){\n",
       "      Jupyter.notebook.get_cells().map(function(cell){\n",
       "          if (cell.cell_type == 'code'){ cell.auto_highlight(); } }) ;\n",
       "  });\n",
       "});\n",
       "} catch (e) {};\n"
      ]
     },
     "metadata": {},
     "output_type": "display_data"
    }
   ],
   "source": [
    "# Setting up the Control Board\n",
    "overlay = Overlay(OVERLAY_FILE)\n",
    "ctrl = pynqctrl.PYNQCtrl(overlay)"
   ]
  },
  {
   "cell_type": "code",
   "execution_count": 4,
   "id": "be5a3463",
   "metadata": {},
   "outputs": [
    {
     "name": "stdout",
     "output_type": "stream",
     "text": [
      "Bus clock = 62.5\n"
     ]
    }
   ],
   "source": [
    "print(\"Bus clock =\",Clocks.fclk0_mhz)"
   ]
  },
  {
   "cell_type": "code",
   "execution_count": 5,
   "id": "1ece7371",
   "metadata": {},
   "outputs": [],
   "source": [
    "Clocks.fclk0_mhz=100"
   ]
  },
  {
   "cell_type": "code",
   "execution_count": 6,
   "id": "ffe3051f",
   "metadata": {},
   "outputs": [
    {
     "data": {
      "text/plain": [
       "(0, 'Set DUT clk to 1000 KHz')"
      ]
     },
     "execution_count": 6,
     "metadata": {},
     "output_type": "execute_result"
    }
   ],
   "source": [
    "ctrl.setDUTClk(1000) # kills OUT_LEN does it reset all DUTComm registers?????, YES"
   ]
  },
  {
   "cell_type": "code",
   "execution_count": 7,
   "id": "579055ca",
   "metadata": {},
   "outputs": [
    {
     "data": {
      "text/plain": [
       "(0, 'Set sampling frequency = 50000 KHz')"
      ]
     },
     "execution_count": 7,
     "metadata": {},
     "output_type": "execute_result"
    }
   ],
   "source": [
    "fobosAcq = scope.OpenADCScope2(overlay)\n",
    "fobosAcq.setAdcClockFreq(50000)"
   ]
  },
  {
   "cell_type": "code",
   "execution_count": 8,
   "id": "f4722335",
   "metadata": {},
   "outputs": [
    {
     "name": "stdout",
     "output_type": "stream",
     "text": [
      "samples_per_trace=10000, blk_num =2500\n",
      "gain_cfg_reg = 0x28\n",
      "gain_cfg_reg = 0x28\n",
      "gain_cfg_reg = 0x28\n",
      "gain reg set to 0\n"
     ]
    },
    {
     "data": {
      "text/plain": [
       "(0, 'Set ADC gain HiLo = 0')"
      ]
     },
     "execution_count": 8,
     "metadata": {},
     "output_type": "execute_result"
    }
   ],
   "source": [
    "SAMPLE_NUM=10000\n",
    "fobosAcq.setSamplesPerTrace(SAMPLE_NUM)\n",
    "fobosAcq.setGain(40)\n",
    "fobosAcq.setHiLo(0)"
   ]
  },
  {
   "cell_type": "code",
   "execution_count": 9,
   "id": "238c5c71",
   "metadata": {},
   "outputs": [],
   "source": [
    "outputBuffer = allocate(shape=(int(SAMPLE_NUM / 4 + 2),), dtype=np.uint64)"
   ]
  },
  {
   "cell_type": "code",
   "execution_count": 10,
   "id": "1ff0fac3",
   "metadata": {},
   "outputs": [
    {
     "ename": "TypeError",
     "evalue": "OpenADCScope2.arm() takes 1 positional argument but 3 were given",
     "output_type": "error",
     "traceback": [
      "\u001b[0;31m---------------------------------------------------------------------------\u001b[0m",
      "\u001b[0;31mTypeError\u001b[0m                                 Traceback (most recent call last)",
      "Input \u001b[0;32mIn [10]\u001b[0m, in \u001b[0;36m<cell line: 1>\u001b[0;34m()\u001b[0m\n\u001b[0;32m----> 1\u001b[0m \u001b[43mfobosAcq\u001b[49m\u001b[38;5;241;43m.\u001b[39;49m\u001b[43marm\u001b[49m\u001b[43m(\u001b[49m\u001b[43moutputBuffer\u001b[49m\u001b[43m,\u001b[49m\u001b[38;5;28;43mint\u001b[39;49m\u001b[43m(\u001b[49m\u001b[43mSAMPLE_NUM\u001b[49m\u001b[38;5;241;43m/\u001b[39;49m\u001b[38;5;241;43m4\u001b[39;49m\u001b[43m)\u001b[49m\u001b[43m)\u001b[49m\n",
      "\u001b[0;31mTypeError\u001b[0m: OpenADCScope2.arm() takes 1 positional argument but 3 were given"
     ]
    }
   ],
   "source": [
    "fobosAcq.arm(outputBuffer,int(SAMPLE_NUM/4))"
   ]
  },
  {
   "cell_type": "code",
   "execution_count": 11,
   "id": "10649570",
   "metadata": {},
   "outputs": [
    {
     "ename": "AttributeError",
     "evalue": "'OpenADCScope2' object has no attribute 'waitForTrace'",
     "output_type": "error",
     "traceback": [
      "\u001b[0;31m---------------------------------------------------------------------------\u001b[0m",
      "\u001b[0;31mAttributeError\u001b[0m                            Traceback (most recent call last)",
      "Input \u001b[0;32mIn [11]\u001b[0m, in \u001b[0;36m<cell line: 1>\u001b[0;34m()\u001b[0m\n\u001b[0;32m----> 1\u001b[0m \u001b[43mfobosAcq\u001b[49m\u001b[38;5;241;43m.\u001b[39;49m\u001b[43mwaitForTrace\u001b[49m()\n",
      "\u001b[0;31mAttributeError\u001b[0m: 'OpenADCScope2' object has no attribute 'waitForTrace'"
     ]
    }
   ],
   "source": [
    "fobosAcq.waitForTrace()"
   ]
  },
  {
   "cell_type": "code",
   "execution_count": 49,
   "id": "43a7b489",
   "metadata": {},
   "outputs": [
    {
     "name": "stdout",
     "output_type": "stream",
     "text": [
      "clk =  10\n",
      "clkout 102\n",
      "2 1 0\n",
      "clkout 50\n",
      "divInt\n",
      "5\n",
      "divFrac\n",
      "0.0\n",
      "divInt\n",
      "5\n",
      "divFrac\n",
      "0\n",
      "Set clk frequency to 10.0\n",
      "clk =  20\n",
      "clkout a01\n",
      "1 10 0\n",
      "clkout 1000\n",
      "divInt\n",
      "50\n",
      "divFrac\n",
      "0.0\n",
      "divInt\n",
      "50\n",
      "divFrac\n",
      "0\n",
      "Set clk frequency to 20.0\n",
      "clk =  30\n",
      "clkout a01\n",
      "1 10 0\n",
      "clkout 1000\n",
      "divInt\n",
      "33\n",
      "divFrac\n",
      "0.3333333333333357\n",
      "divInt\n",
      "33\n",
      "divFrac\n",
      "333\n",
      "Set clk frequency to 29.999999999999996\n",
      "clk =  40\n",
      "clkout a01\n",
      "1 10 0\n",
      "clkout 1000\n",
      "divInt\n",
      "25\n",
      "divFrac\n",
      "0.0\n",
      "divInt\n",
      "25\n",
      "divFrac\n",
      "0\n",
      "Set clk frequency to 40.0\n",
      "clk =  50\n",
      "clkout a01\n",
      "1 10 0\n",
      "clkout 1000\n",
      "divInt\n",
      "20\n",
      "divFrac\n",
      "0.0\n",
      "divInt\n",
      "20\n",
      "divFrac\n",
      "0\n",
      "Set clk frequency to 50.0\n",
      "clk =  60\n",
      "clkout a01\n",
      "1 10 0\n",
      "clkout 1000\n",
      "divInt\n",
      "16\n",
      "divFrac\n",
      "0.6666666666666679\n",
      "divInt\n",
      "16\n",
      "divFrac\n",
      "666\n",
      "Set clk frequency to 59.99999999999999\n",
      "clk =  70\n",
      "clkout a01\n",
      "1 10 0\n",
      "clkout 1000\n",
      "divInt\n",
      "14\n",
      "divFrac\n",
      "0.2857142857142865\n",
      "divInt\n",
      "14\n",
      "divFrac\n",
      "285\n",
      "Set clk frequency to 70.0\n",
      "clk =  80\n",
      "clkout a01\n",
      "1 10 0\n",
      "clkout 1000\n",
      "divInt\n",
      "12\n",
      "divFrac\n",
      "0.5\n",
      "divInt\n",
      "12\n",
      "divFrac\n",
      "500\n",
      "Set clk frequency to 80.0\n",
      "clk =  90\n",
      "clkout a01\n",
      "1 10 0\n",
      "clkout 1000\n",
      "divInt\n",
      "11\n",
      "divFrac\n",
      "0.11111111111111072\n",
      "divInt\n",
      "11\n",
      "divFrac\n",
      "111\n",
      "Set clk frequency to 90.0\n",
      "clk =  100\n",
      "clkout a01\n",
      "1 10 0\n",
      "clkout 1000\n",
      "divInt\n",
      "10\n",
      "divFrac\n",
      "0.0\n",
      "divInt\n",
      "10\n",
      "divFrac\n",
      "0\n",
      "Set clk frequency to 100.0\n"
     ]
    }
   ],
   "source": [
    "for i in range (10,110, 10):\n",
    "    print(\"clk = \",i)\n",
    "    fobosAcq.setAdcClockFreq(i)\n",
    "    time.sleep(5)"
   ]
  },
  {
   "cell_type": "code",
   "execution_count": null,
   "id": "3d45fac5",
   "metadata": {},
   "outputs": [],
   "source": []
  }
 ],
 "metadata": {
  "kernelspec": {
   "display_name": "Python 3 (ipykernel)",
   "language": "python",
   "name": "python3"
  },
  "language_info": {
   "codemirror_mode": {
    "name": "ipython",
    "version": 3
   },
   "file_extension": ".py",
   "mimetype": "text/x-python",
   "name": "python",
   "nbconvert_exporter": "python",
   "pygments_lexer": "ipython3",
   "version": "3.10.4"
  }
 },
 "nbformat": 4,
 "nbformat_minor": 5
}
