{
 "cells": [
  {
   "cell_type": "markdown",
   "metadata": {},
   "source": [
    "# <div align=\"center\">Project 2c: Leakage Assessment<div>\n",
    "\n",
    "<p><div align=\"center\">Due Date: Monday May 11th, 2020, 11:59 PM</div></p>\n",
    "\n",
    "<div align=\"center\"><b>You are expected to work in groups of two. Address all questions listed in this document in your final report. Submit the report on <a href=\"https://mymasonportal.gmu.edu\" target=\"_blank\">MyMason</a> in PDF format.</div>"
   ]
  },
  {
   "cell_type": "markdown",
   "metadata": {},
   "source": [
    "## Test Vector Leakage Assessment\n",
    "Unprotected cryptographic implementations leak information if not protected properly using side channel counter measures. To test countermeasure effectiveness, key recovery attacks (e.g DPA) can be mounted at several attack points to see if the key can be recovered. \n",
    "However, mounting such attacks, which includes analyzing the algorithm to find all possible points of attack, coming up with the power models, obtaining the measurements, etc., is time consuming and requires experience with these attacks and detailed knowledge of the implementation. You have been through this for one possible point of attack of an AES implementation in the previous parts of Project 2.\n",
    "Leakage assessment methodologies allow you to quickly determine if there is a significat leakage from the implementation.\n",
    "\n",
    "### Welch's T-Test\n",
    "Welch's t-test is a moments-based statistical test used in a wide range of scientific research to show if two populations are significantly different. This test is used in the **Test Vector Leakage Assessment (TVLA)** methodology which has been used in many publications to test if there is significant information leakage from an implementation.  \n",
    "If an implementation is secure against DPA, its power consumption must be independent of the algorithm's intermediate values. This implies that power traces collected when processing fixed data and traces collected when processing random data should be statistically indistinguishable. We call the two trace sets $Q_f$ and $Q_r$ respectively. A $t$ value is calculated as follows:  \n",
    "\n",
    "\\begin{equation}\n",
    "t = \\frac{\\mu_f - \\mu_r}{\\sqrt{\\frac{s_f^2}{n_f} + \\frac{s_r^2}{n_r}}}     \n",
    "\\end{equation}\n",
    "\n",
    "Where $\\mu_f$ and $\\mu_r$ are the means, $s_f$ and $s_r$ are the standard deviations and $n_f$ and $n_r$ are the number of samples in the sets. \n",
    "The **null hypothesis** is that the means of the two trace sets $Q_f$ and $Q_r$ are equal (i.e.,  the two trace sets are indistinguishable). We use the calculated $t$ value as an indicator to reject the null hypothesis at certain confidence level. If $\\mid t \\mid > 4.5 $ we reject the null hypothesis at a confidence level of $99.999\\%$ (i.e., $p<10^{-5}$). This means the two sets $Q_f$ and $Q_r$ are distinguishable and the cryptographic core is likely leaking information. However, this doesn't prove that the leakage can be exploited to obtain secret information, and it doesn't recover any secret information itself.\n",
    "\n",
    "The point of doing such a test is to give the countermeasure designer more confidence on the soundness of the protection. However, recent research has shown that even implementations passing the t-test can leak information in ways the t-test does not capture. More advanced test have been therfore developed. Never the less, TVLA is still a powerful tool and the first test to be performed for SCA leakage evaluation."
   ]
  },
  {
   "cell_type": "markdown",
   "metadata": {},
   "source": [
    "## TVLA on Unprotected AES"
   ]
  },
  {
   "cell_type": "markdown",
   "metadata": {},
   "source": [
    "Run the following cell to load the needed libraries."
   ]
  },
  {
   "cell_type": "code",
   "execution_count": null,
   "metadata": {},
   "outputs": [],
   "source": [
    "import os\n",
    "import json\n",
    "import numpy as np\n",
    "import matplotlib.pyplot as plt\n",
    "import fobos.traceset as traceset\n",
    "import fobos.projmgr as projmgr\n",
    "import fobos.ttest"
   ]
  },
  {
   "cell_type": "markdown",
   "metadata": {},
   "source": [
    "### AES Unprotected\n",
    "\n",
    "First, you will apply TVLA to the unprotected AES-128 implementation you already perfromed SCA on and document your observations. The traces were collected using the FOBOS acquisition module as follows:\n",
    "\n",
    "1. Test vectors were generated. The test vectors are composed of random test vectors and a fixed test vectors.\n",
    "The vectors are randomly interleaved. You can think of this as throwing a coin and based on the outcoume, decide whether the next test vector should be randomly generated or the fixed vector should be used. A meta file that keeps track of fixed vs random test vectors is generated. The file is called **fvrchoicefile.txt**.\n",
    "\n",
    "2. The acquisition setting are configured and saved in the acquisitionConfi.txt file.\n",
    " \n",
    "3. The FOBOS acquistion module was run to collect traces from the AES-128 instantiated on a Xilinx Spartan-6 FPGA and a power power probe was used to measure power consumption.\n",
    "\n",
    "4. The project data is saved at fobosworkspace/aes_ttest/.\n",
    "\n",
    "<div class=\"alert alert-block alert-info\">\n",
    "    \n",
    "#### Questions:\n",
    "\n",
    "We will first work with the data in fobosworkspace/aes_ttest/capture/attempt-01\n",
    "\n",
    "1. Looking at the acquistionConfig.json file, summarize in words the settings used.\n",
    "2. Inspect the first five blocks in the plaintext.txt file and note which are randomly generated and which are the fixed block.\n",
    "3. Look at the first five entries in the fvrchoicefile.txt (0's and 1's). What do they mean?\n",
    "</div>\n"
   ]
  },
  {
   "cell_type": "markdown",
   "metadata": {},
   "source": [
    "Run the following cell to configure the input and output files locations."
   ]
  },
  {
   "cell_type": "code",
   "execution_count": null,
   "metadata": {},
   "outputs": [],
   "source": [
    "# Configure project directories ################################\n",
    "PROJECT_NAME1 = \"attempt-01\"\n",
    "WORKSPACE1 = \"fobosworkspace/aes_ttest/capture\"\n",
    "pm = projmgr.ProjectManager()\n",
    "pm.setWorkSpaceDir(WORKSPACE1)\n",
    "pm.setProjName(PROJECT_NAME1)\n",
    "projDir1 = pm.getProjDir()\n",
    "analysisDir1 = pm.getAnalysisDir()\n",
    "TRACES_FILE1 = os.path.join(projDir1, 'powerTraces.npy')\n",
    "FVR_FILE1 = os.path.join(projDir1, 'fvrchoicefile.txt')"
   ]
  },
  {
   "cell_type": "markdown",
   "metadata": {},
   "source": [
    "<span style=\"color:red\">Please pay attention to the messages generated by the previous cell and note the attempt-xx directory number.</span>\n",
    "\n",
    "Run the following cell to display some of the traces collected form FOBOS running the unproteced AES."
   ]
  },
  {
   "cell_type": "code",
   "execution_count": null,
   "metadata": {
    "scrolled": false
   },
   "outputs": [],
   "source": [
    "# configure plotting settings\n",
    "tConf = {}\n",
    "##t-test/plotting settings\n",
    "tConf['plot'] = True\n",
    "tConf['plotSize'] = (10,8)\n",
    "tConf['plotFontSize'] = 18\n",
    "MAX_TRACES = 100\n",
    "#Read acquisition config\n",
    "acqConf = {}\n",
    "configFile = open(os.path.join(projDir1, 'acquisitionConfig.json'))\n",
    "acqConf = json.load(configFile)\n",
    "print(f'Acquisition config = {acqConf}')\n",
    "# load traces from file.\n",
    "traceSetOrig = traceset.TraceSet(traceNum=MAX_TRACES,\n",
    "                                 fileName=TRACES_FILE1)\n",
    "measuredPowerOrig = traceSetOrig.traces\n",
    "print(f'The shape of the traces matrix is {measuredPowerOrig.shape}')\n",
    "plt.figure(figsize=tConf['plotSize'])\n",
    "plt.rcParams.update({'font.size': tConf['plotFontSize']})\n",
    "plt.xlabel('Sample')\n",
    "plt.ylabel('Amplitdue')\n",
    "plt.title('Traces')\n",
    "for i in range(5):\n",
    "    plt.plot(measuredPowerOrig[i])\n",
    "    \n",
    "plt.savefig(os.path.join(analysisDir1, 'traces.png'))"
   ]
  },
  {
   "cell_type": "markdown",
   "metadata": {},
   "source": [
    "\n",
    "<div class=\"alert alert-block alert-info\">\n",
    "    \n",
    "#### Questions:\n",
    "4. Include the graph above in your report\n",
    "</div>\n"
   ]
  },
  {
   "cell_type": "markdown",
   "metadata": {},
   "source": [
    "Run the following code to perform the t-test. \n",
    "The traces are already split traces into two sets: the one generated using random vectors and the other using fixed vectors.\n",
    "\n",
    "The plot has sample numbers on the x-axis and t-values on the y-axis.\n",
    "Two lines at 4.5 and -4.5 indicate the threshold discussed above.\n",
    "\n",
    "The **step** parameter in the code below allows the input files to be loaded in small chunks to avoid filling the memory."
   ]
  },
  {
   "cell_type": "code",
   "execution_count": null,
   "metadata": {
    "scrolled": false
   },
   "outputs": [],
   "source": [
    "tConf['traceNum'] = 20     # number of traces to analyze, default: 20\n",
    "tConf['plotSize'] = (10,8)\n",
    "tConf['plotFontSize'] = 18\n",
    "traceFile0 = os.path.join(projDir1, 'trace_set0_50MSps.npy')\n",
    "traceFile1 = os.path.join(projDir1, 'trace_set1_50MSps.npy')\n",
    "plotFile = os.path.join(analysisDir1, 't-test-result.png')\n",
    "test = fobos.ttest.Ttest()\n",
    "tvals = test.doTtest(traceFile0=traceFile0,\n",
    "                  traceFile1=traceFile1, \n",
    "                  numTraces=tConf['traceNum'],\n",
    "                  step='auto',\n",
    "                  analysisDir=analysisDir1)\n",
    "test.plotTValues(t=tvals, \n",
    "                 startXlim=0, \n",
    "                 endXlim='All', \n",
    "                 startYlim=-50, \n",
    "                 endYlim=50, \n",
    "                 analysisDir=analysisDir1,\n",
    "                 traceNum=tConf['traceNum'],\n",
    "                 plotSize=tConf['plotSize'],\n",
    "                 plotFontSize=tConf['plotFontSize']\n",
    "                )"
   ]
  },
  {
   "cell_type": "markdown",
   "metadata": {},
   "source": [
    "### The effect of trace number\n",
    "\n",
    "In this question, you will see the effect of running the t-test using less traces.\n"
   ]
  },
  {
   "cell_type": "markdown",
   "metadata": {},
   "source": [
    "<div class=\"alert alert-block alert-info\">\n",
    "    \n",
    "#### Questions:\n",
    "5.  Include the graph above for 20 traces in your report. \n",
    "6.  What do you observe about the result, does this implementation about AES pass the t-test?\n",
    "7.  Now set the trace number to 200 and run the code again. Include the resulting graph in your report.\n",
    "8.  Now set the trace number to 2000 and run the code again. Include the resulting graph in your report.\n",
    "9.  What differences do you oberve in the three graphs?\n",
    "10. Compare the last graph to the power traces you plotted above. Can you observe the AES clock cycles?\n",
    "</div>"
   ]
  },
  {
   "cell_type": "markdown",
   "metadata": {},
   "source": [
    "### The effect of sampling frequency\n",
    "\n",
    "In this section, we will load another set of AES traces collected using the same settings as the previous data. However, the sampling rate was reduced from 50 M Sample/sec to 5 M Sample/sec.\n",
    "\n",
    "The trace data is stored in fobosworkspace/aes_ttest/capture/attempt-02\n",
    "\n",
    "Run the following cell to load and plot the traces:\n"
   ]
  },
  {
   "cell_type": "code",
   "execution_count": null,
   "metadata": {},
   "outputs": [],
   "source": [
    "# Configure project directories ################################\n",
    "PROJECT_NAME2 = \"attempt-02\" # the location is likely in the form attampt-i (e.g. attempt-1)\n",
    "WORKSPACE2 = \"fobosworkspace/aes_ttest/capture\"\n",
    "pm = projmgr.ProjectManager()\n",
    "pm.setWorkSpaceDir(WORKSPACE2)\n",
    "pm.setProjName(PROJECT_NAME2)\n",
    "projDir2 = pm.getProjDir()\n",
    "analysisDir2 = pm.getAnalysisDir()\n",
    "TRACES_FILE2 = os.path.join(projDir2, 'powerTraces.npy')\n",
    "FVR_FILE2 = os.path.join(projDir2, 'fvrchoicefile.txt')\n",
    "######################################\n",
    "tConf = {}\n",
    "##t-test/plotting settings\n",
    "tConf['plot'] = True\n",
    "tConf['plotSize'] = (10,8)\n",
    "tConf['plotFontSize'] = 18\n",
    "MAX_TRACES = 100\n",
    "#Read acquisition config\n",
    "acqConf = {}\n",
    "configFile = open(os.path.join(projDir2, 'acquisitionConfig.json'))\n",
    "acqConf = json.load(configFile)\n",
    "print(f'Acquisition config = {acqConf}')\n",
    "# load traces from file.\n",
    "traceSetOrig = traceset.TraceSet(traceNum=MAX_TRACES,\n",
    "                            fileName=TRACES_FILE2)\n",
    "measuredPowerOrig = traceSetOrig.traces\n",
    "print(f'The shape of the traces matrix is {measuredPowerOrig.shape}')\n",
    "plt.figure(figsize=tConf['plotSize'])\n",
    "plt.rcParams.update({'font.size': tConf['plotFontSize']})\n",
    "plt.xlabel('Sample')\n",
    "plt.ylabel('Amplitdue')\n",
    "plt.title('Traces')\n",
    "for i in range(10,15):\n",
    "    plt.plot(measuredPowerOrig[i])\n",
    "plt.savefig(os.path.join(analysisDir2, 'traces.png'))"
   ]
  },
  {
   "cell_type": "markdown",
   "metadata": {},
   "source": [
    "<div class=\"alert alert-block alert-info\">\n",
    "    \n",
    "#### Questions:\n",
    "11. Include the graph above in your report.\n",
    "12. What is the difference between the traces with the two different sampling rates?\n",
    "</div>"
   ]
  },
  {
   "cell_type": "markdown",
   "metadata": {},
   "source": [
    "Run the following cell to perform a t-test using the traces above "
   ]
  },
  {
   "cell_type": "code",
   "execution_count": null,
   "metadata": {},
   "outputs": [],
   "source": [
    "tConf['traceNum'] = 20           # number of traces to analyze, default: 20\n",
    "tConf['plotSize'] = (10,8)\n",
    "tConf['plotFontSize'] = 18\n",
    "traceFile0 = os.path.join(projDir2, 'trace_set0_5MSps.npy')\n",
    "traceFile1 = os.path.join(projDir2, 'trace_set1_5MSps.npy')\n",
    "plotFile = os.path.join(analysisDir2, 't-test-result.png')\n",
    "test = fobos.ttest.Ttest()\n",
    "tvals = test.doTtest(traceFile0=traceFile0,\n",
    "                  traceFile1=traceFile1, \n",
    "                  numTraces=tConf['traceNum'],\n",
    "                  step='auto', \n",
    "                  analysisDir=analysisDir2)\n",
    "test.plotTValues(t=tvals, \n",
    "                 startXlim=0, \n",
    "                 endXlim='All', \n",
    "                 startYlim=-50, \n",
    "                 endYlim=50,\n",
    "                 traceNum=tConf['traceNum'],\n",
    "                 analysisDir=analysisDir2,\n",
    "                 plotSize=tConf['plotSize'],\n",
    "                 plotFontSize=tConf['plotFontSize']\n",
    "                )"
   ]
  },
  {
   "cell_type": "markdown",
   "metadata": {},
   "source": [
    "<div class=\"alert alert-block alert-info\">\n",
    "    \n",
    "#### Questions:\n",
    "13.  Include the graph above for 20 traces in your report. \n",
    "14.  What do you observe about the result, does this implementation about AES pass the t-test?\n",
    "15.  Now set the trace number to 200 and run the code again. Include the resulting graph in your report.\n",
    "16.  Now set the trace number to 2000 and run the code again. Include the resulting graph in your report.\n",
    "17.  What is the effect of reducing sampling frequency? (Note: compare to t-test with the same number of traces)\n",
    "</div>\n"
   ]
  },
  {
   "cell_type": "markdown",
   "metadata": {},
   "source": [
    "## TVLA on Unprotected Ascon\n",
    "\n",
    "\n",
    "Ascon is an authenticated cipher that is currently a candidate in NIST Lightweight Cryptography (LWC) standardization effort.\n",
    "Below, we perform a t-test on an unprotected FPGA implementation of Ascon."
   ]
  },
  {
   "cell_type": "markdown",
   "metadata": {},
   "source": [
    "Run the following cell to configure the input and output files locations."
   ]
  },
  {
   "cell_type": "code",
   "execution_count": null,
   "metadata": {},
   "outputs": [],
   "source": [
    "# Configure project directories ################################\n",
    "PROJECT_NAME3 = \"attempt-1\" # the location is likely in the form attampt-i (e.g. attempt-1)\n",
    "WORKSPACE3 = \"fobosworkspace/ascon_unprotected/capture\"\n",
    "pm = projmgr.ProjectManager()\n",
    "pm.setWorkSpaceDir(WORKSPACE3)\n",
    "pm.setProjName(PROJECT_NAME3)\n",
    "projDir3 = pm.getProjDir()\n",
    "analysisDir3 = pm.getAnalysisDir()\n",
    "TRACES_FILE3 = os.path.join(projDir3, 'powerTraces.npy')\n",
    "FVR_FILE3 = os.path.join(projDir3, 'fvrchoicefile.txt')"
   ]
  },
  {
   "cell_type": "markdown",
   "metadata": {},
   "source": [
    "Run the following cell to display some of the traces collected form FOBOS running the unproteced Ascon."
   ]
  },
  {
   "cell_type": "code",
   "execution_count": null,
   "metadata": {},
   "outputs": [],
   "source": [
    "##plotting settings\n",
    "tConf['plot'] = True\n",
    "tConf['plotSize'] = (10,8)\n",
    "tConf['plotFontSize'] = 18\n",
    "tConf['traceNum'] = 2000\n",
    "MAX_TRACES = 10\n",
    "# load traces from file.\n",
    "traceSetOrig = traceset.TraceSet(traceNum=MAX_TRACES,\n",
    "                            fileName=TRACES_FILE3)\n",
    "measuredPowerOrig = traceSetOrig.traces\n",
    "print(f'The shape of the traces matrix is {measuredPowerOrig.shape}')\n",
    "plt.figure(figsize=tConf['plotSize'])\n",
    "plt.rcParams.update({'font.size': tConf['plotFontSize']})\n",
    "plt.xlabel('Sample')\n",
    "plt.ylabel('Amplitdue')\n",
    "plt.title('Traces')\n",
    "for i in range(5):\n",
    "    plt.plot(measuredPowerOrig[i])\n",
    "plt.savefig(os.path.join(analysisDir3, 'traces.png'))"
   ]
  },
  {
   "cell_type": "markdown",
   "metadata": {},
   "source": [
    "Run the t-test on the two trace sets using the following code."
   ]
  },
  {
   "cell_type": "code",
   "execution_count": null,
   "metadata": {},
   "outputs": [],
   "source": [
    "tConf['traceNum'] = 2000         # number of traces to analyze, default: 2000\n",
    "tConf['plotSize'] = (10,8)\n",
    "tConf['plotFontSize'] = 18\n",
    "traceFile0 = os.path.join(projDir3, 'trace_set0.npy')\n",
    "traceFile1 = os.path.join(projDir3, 'trace_set1.npy')\n",
    "plotFile = os.path.join(analysisDir3, 't-test-result.png')\n",
    "test = fobos.ttest.Ttest()\n",
    "tvals = test.doTtest(traceFile0=traceFile0,\n",
    "                  traceFile1=traceFile1, \n",
    "                  numTraces=tConf['traceNum'],\n",
    "                  step='auto', \n",
    "                  analysisDir=analysisDir3)\n",
    "test.plotTValues(t=tvals, \n",
    "                 startXlim=0, \n",
    "                 endXlim='All', \n",
    "                 startYlim=-10, \n",
    "                 endYlim=10,\n",
    "                 traceNum=tConf['traceNum'],\n",
    "                 analysisDir=analysisDir3,\n",
    "                 plotSize=tConf['plotSize'],\n",
    "                 plotFontSize=tConf['plotFontSize']\n",
    "                )"
   ]
  },
  {
   "cell_type": "markdown",
   "metadata": {},
   "source": [
    "<div class=\"alert alert-block alert-info\">\n",
    "    \n",
    "#### Questions:\n",
    "18.  Include the graph above in your report.\n",
    "19.  What are the approximate sample numbers where the t-test shows information leakage?\n",
    "20.  Repeat the test above with less traces, what is the largest number of traces that yields a **passing** test?\n",
    "</div>\n"
   ]
  },
  {
   "cell_type": "markdown",
   "metadata": {},
   "source": [
    "## TVLA on Protected Ascon \n",
    "\n",
    "Below, we perform a T test on an FPGA implemetation of Ascon that is protected against SCA attackes using the Threshold Implementation (TI) technique.\n",
    "TI is a form of masking where sensitive data is split into shares. To reconstruct the sensitive value, all shares are needed. The TI implementation was designed to withstand first order attacks."
   ]
  },
  {
   "cell_type": "markdown",
   "metadata": {},
   "source": [
    "Run the following cell to configure the input and output files locations."
   ]
  },
  {
   "cell_type": "code",
   "execution_count": null,
   "metadata": {},
   "outputs": [],
   "source": [
    "# Configure project directories ################################\n",
    "PROJECT_NAME4 = \"attempt-1\" # the location is likely in the form attampt-i (e.g. attempt-1)\n",
    "WORKSPACE4 = \"fobosworkspace/ascon_protected/capture\"\n",
    "pm = projmgr.ProjectManager()\n",
    "pm.setWorkSpaceDir(WORKSPACE4)\n",
    "pm.setProjName(PROJECT_NAME4)\n",
    "projDir4 = pm.getProjDir()\n",
    "analysisDir4 = pm.getAnalysisDir()\n",
    "######\n",
    "TRACES_FILE4 = os.path.join(projDir4, 'powerTraces.npy')\n",
    "FVR_FILE4 = os.path.join(projDir4, 'fvrchoicefile.txt')"
   ]
  },
  {
   "cell_type": "markdown",
   "metadata": {},
   "source": [
    "Run the following cell to display some of the traces collected form FOBOS running the proteced Ascon."
   ]
  },
  {
   "cell_type": "code",
   "execution_count": null,
   "metadata": {},
   "outputs": [],
   "source": [
    "##plotting settings\n",
    "tConf['plot'] = True\n",
    "tConf['plotSize'] = (10,8)\n",
    "tConf['plotFontSize'] = 18\n",
    "tConf['traceNum'] = 2000\n",
    "MAX_TRACES = 10\n",
    "# load traces from file.\n",
    "traceSetOrig = traceset.TraceSet(traceNum=MAX_TRACES,\n",
    "                            fileName=TRACES_FILE4)\n",
    "measuredPowerOrig = traceSetOrig.traces\n",
    "print(f'The shape of the traces matrix is {measuredPowerOrig.shape}')\n",
    "plt.figure(figsize=tConf['plotSize'])\n",
    "plt.rcParams.update({'font.size': tConf['plotFontSize']})\n",
    "plt.xlabel('Sample')\n",
    "plt.ylabel('Amplitdue')\n",
    "plt.title('Traces')\n",
    "for i in range(5):\n",
    "    plt.plot(measuredPowerOrig[i])\n",
    "plt.savefig(os.path.join(analysisDir4, 'traces.png'))"
   ]
  },
  {
   "cell_type": "markdown",
   "metadata": {},
   "source": [
    "Run the t-test on the two trace sets using the following code."
   ]
  },
  {
   "cell_type": "code",
   "execution_count": null,
   "metadata": {},
   "outputs": [],
   "source": [
    "tConf['traceNum'] = 2000             # number of traces to analyze, default: 2000\n",
    "tConf['plotSize'] = (10,8)\n",
    "tConf['plotFontSize'] = 18\n",
    "traceFile0 = os.path.join(projDir4, 'trace_set0.npy')\n",
    "traceFile1 = os.path.join(projDir4, 'trace_set1.npy')\n",
    "plotFile = os.path.join(analysisDir4, 't-test-result.png')\n",
    "test = fobos.ttest.Ttest()\n",
    "tvals = test.doTtest(traceFile0=traceFile0,\n",
    "                  traceFile1=traceFile1, \n",
    "                  numTraces=tConf['traceNum'],\n",
    "                  step='auto', \n",
    "                  analysisDir=analysisDir4)\n",
    "test.plotTValues(t=tvals, \n",
    "                 startXlim=0, \n",
    "                 endXlim='All', \n",
    "                 startYlim=-10, \n",
    "                 endYlim=10,\n",
    "                 traceNum=tConf['traceNum'],\n",
    "                 analysisDir=analysisDir4,\n",
    "                 plotSize=tConf['plotSize'],\n",
    "                 plotFontSize=tConf['plotFontSize']\n",
    "                )"
   ]
  },
  {
   "cell_type": "markdown",
   "metadata": {},
   "source": [
    "<div class=\"alert alert-block alert-info\">\n",
    "    \n",
    "#### Questions:\n",
    "21.  Copy the graph into your report.\n",
    "22.  What is the result of the t-test of the protected implementation of Ascon?\n",
    "</div>\n"
   ]
  }
 ],
 "metadata": {
  "kernelspec": {
   "display_name": "Python 3",
   "language": "python",
   "name": "python3"
  },
  "language_info": {
   "codemirror_mode": {
    "name": "ipython",
    "version": 3
   },
   "file_extension": ".py",
   "mimetype": "text/x-python",
   "name": "python",
   "nbconvert_exporter": "python",
   "pygments_lexer": "ipython3",
   "version": "3.7.6"
  }
 },
 "nbformat": 4,
 "nbformat_minor": 4
}
