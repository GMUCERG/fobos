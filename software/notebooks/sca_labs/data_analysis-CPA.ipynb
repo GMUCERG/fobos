{
 "cells": [
  {
   "cell_type": "markdown",
   "metadata": {},
   "source": [
    "# <div align=\"center\">Project 2b: Correlation Power Analysis (CPA) - Data Analysis<div>\n",
    "\n",
    "<p><div align=\"center\">Due Date: Saturday March 30th, 2024, 11:59 PM</div></p>\n",
    "\n",
    "<div align=\"center\"><b>Address all questions listed in this document in your final report. Submit the report on <a href=\"https://mymasonportal.gmu.edu\" target=\"_blank\">MyMason</a> in PDF format.</div>"
   ]
  },
  {
   "cell_type": "markdown",
   "metadata": {},
   "source": [
    "In this part of the project, you will use the traces you collected in the first part of the project to complete the steps of the CPA attack and recover the key."
   ]
  },
  {
   "cell_type": "markdown",
   "metadata": {},
   "source": [
    "## Side Channel Analysis Process\n",
    "\n",
    "### Step 1: Point of Attack and Power Model\n",
    "This step was performed in Project 2 part a).\n",
    "\n",
    "### Step 2: Data Acquisition - Power Measurements\n",
    "This step was performed in Project 2 part a).\n",
    "\n",
    "### Step 3: Calculating Hypothetical Power\n",
    "In Step 1, we analyzed the implementation of the cryptographic algorithm to determine a possible point of attack.\n",
    "We choose it to be the point in time where an intermediate result is computed as a funcion of a known data value and the key. The intermediate value is calculated as *f(d, k)* where *d* is a known non-constant value that can be derived from known data (e.g. plaintext) and *k* is small part of the key, the subkey.\n",
    "\n",
    "![AES Block Diagram](figures/aes128.png \"AES Block Diagram\")\n",
    "\n",
    "We decided to attack our AES design during the first round at the output of the register FF1 as indicated in the figure above. The hypothetical power $\\mathbf{H}$ is calculated for each data value $d_i$ and each key guess $k_j$  using the Hamming Distance (HD) equation. As we use two data values, ciphertext $CT$ and plaintext $PT$, our equation looks as follows.\n",
    "\n",
    "\\begin{equation}\n",
    "h(i,j) = HD(SBOX(CT_i), SBOX(k_j \\oplus PT_{i+1} ))\n",
    "\\end{equation}\n",
    "\n",
    "We split the 128-bit AES key into 16 8-bit parts called subkeys and attack one 8-bit subkey at a time. \n",
    "This way we have to make $2^{8}=256$ key guesses per subkey. We have to repeat this calculation for every subkey, using the corresponding bytes from $CT$ and $PT$.\n",
    "We use the HD model since it is suitable for CMOS technology and we know the value of the intermediate at the attack point for two consecutive clock cycles.\n",
    "\n",
    "In this part of the attack we will be calculating this hypothetical power model for each subkey using the plaintexts we provided, the ciphertexts we obtained when encrypting the plaintexts and the formula above. This computation has to be performed only once unless we change the plaintext or the key.\n",
    "\n",
    "\n",
    "### Step 4: Data Analysis\n",
    "Correlation Power Analysis (CPA) is a form of Differential Power Analysis (DPA) which uses a\n",
    "statistical test, also called a side-channel distinguisher, to correlate power samples with the power\n",
    "model in order to obtain the secret key. The only side-channel distinguisher that FOBOS currently supports is *Pearson's product moment correlation coefficient (r)*. The Pearson’s correlation (r) between the the power consumption of the device $\\mathbf{T}$ and the hypothetical power model $\\mathbf{H}$ is given by\n",
    "\n",
    "\\begin{equation}\\label{pearsons-r}\n",
    "r(i,j) =\\frac{D \\sum_{d=1}^{D}{t_{d,j} h_{d,i}}-\\sum_{d=1}^{D} t_{d,j}\\sum_{d}^{D}h_{d,i}}\n",
    "          {\\sqrt{D\\sum_{d=1}^{D} t_{d,j}^2-\\left(\\sum_{d=1}^{D} t_{d,j}\\right)^2} \n",
    "           \\sqrt{D\\sum_{d=1}^{D} h_{d,i}^2-\\left(\\sum_{d=1}^{D} h_{d,i}\\right)^2}}\n",
    "\\end{equation}   \n",
    "\n",
    "where $D$ is the number of traces, $t_d$ is trace $d$. This function has to be iterated over all key guesses $i=1,\\ldots, K$ and samples $j=1,\\ldots, T$. Then this whole process has to be repeated for each subkey.\n",
    "\n",
    "FOBOS computes Pearson’s correlation for each sample, each key guess, and for each subkey.\n",
    "\n"
   ]
  },
  {
   "cell_type": "markdown",
   "metadata": {},
   "source": [
    "## FOBOS Analysis Setup\n",
    "\n",
    "### Libraries and Acquisition Results:\n",
    "\n",
    "First we have to load the necessary libraries."
   ]
  },
  {
   "cell_type": "code",
   "execution_count": null,
   "metadata": {},
   "outputs": [],
   "source": [
    "import os\n",
    "import json\n",
    "import numpy as np\n",
    "import matplotlib.pyplot as plt\n",
    "import foboslib.common.traceset as traceset \n",
    "import foboslib.analysis.cpa as cpa\n",
    "import foboslib.common.projmgr as projmgr\n",
    "import foboslib.analysis.powermodels.AESFirstLast as powermodel #code to calculate hypothetical power\n",
    "import foboslib.analysis.powermodels.utils as powermodelUtils"
   ]
  },
  {
   "cell_type": "markdown",
   "metadata": {},
   "source": [
    "FOBOS Analysis needs to know the directory in which the measurements are stored and the accompanying acquisition settings. \n",
    "\n",
    "* **WORKSPACE** is the location of the directory that got created for the acquisition step as **workspace**/**projectName**/capture. Inside this directory, each time an acquisition was performed an **ATTEMPT_DIR** was created, named <code>attempt-</code>*number*. \n",
    "* **ATTEMPT_DIR** contains the measurements, ciphertext, and the acquisition settings.\n",
    "\n",
    "Set the values accordingly in the cell below and execute it."
   ]
  },
  {
   "cell_type": "code",
   "execution_count": null,
   "metadata": {},
   "outputs": [],
   "source": [
    "# Configure project directories \n",
    "WORKSPACE = \"fobosworkspace/aes/capture\"        # Workspace for FOBOS Analysis\n",
    "ATTEMPT_DIR = \"attempt-xx\"                      # the location is likely in the form attampt-i (e.g. attempt-1)\n",
    "###########################\n",
    "pm = projmgr.ProjectManager()\n",
    "pm.setWorkSpaceDir(WORKSPACE)\n",
    "pm.setProjName(ATTEMPT_DIR)\n",
    "projDir = pm.getProjDir()\n",
    "analysisDir = pm.getAnalysisDir()"
   ]
  },
  {
   "cell_type": "markdown",
   "metadata": {},
   "source": [
    "<span style=\"color:red\">The previous cell generated a new analysis directory. Note the attempt-xx directory number. All output files will be stored there.</span>\n"
   ]
  },
  {
   "cell_type": "markdown",
   "metadata": {},
   "source": [
    "### Files and Locations:\n",
    "\n",
    "Now we can load the acquistion settings. The only thing that has to be specified is the location for storing the computed power model. The locations of the other files is retrieved from the acquisition configuration.\n",
    "\n",
    "* HYPO_FILE is the location for storing the hypothetical power model."
   ]
  },
  {
   "cell_type": "code",
   "execution_count": null,
   "metadata": {},
   "outputs": [],
   "source": [
    "# Load Acquisition Config\n",
    "cpaConf = {}\n",
    "configFile = open(os.path.join(projDir, 'acquisitionConfig.json'))\n",
    "acqConf = json.load(configFile)\n",
    "print(f'Acquisition config = {acqConf}')\n",
    "cpaConf['traceNum'] = acqConf['traceNum']\n",
    "\n",
    "# Configure file names\n",
    "HYPO_FILE = os.path.join(projDir, \"hypotheticalPower.npy\") # Name of file for storing the power model\n",
    "#############################\n",
    "TRACES_FILE = os.path.join(projDir, acqConf['traceFile'])  # Name of file for recording power traces\n",
    "PLAIN_FILE = os.path.join(projDir, acqConf['plainFile'])   # plaintext in hex\n",
    "CIPHER_FILE = os.path.join(projDir, acqConf['cipherFile']) # observed ciphertext, result from applying test vectors"
   ]
  },
  {
   "cell_type": "markdown",
   "metadata": {},
   "source": [
    "## Power Model Computation\n",
    "\n",
    "\n",
    "Run the following cell to calculate the hypothetical power matrix. This uses the plaintexts that you generated during acquisition, the ciphertexts we obtained when encrypting the ciphertexts and the HD formula above.\n",
    "\n",
    "\n",
    "If this model has already been computed, it will not be computed again, but the file containing the hypothetical power model will be loaded. You can force it to recompute the power model by only runing the last three lines of code in the cell below.\n",
    "\n",
    "In either case, the cell will show as output the hypothetical power matrix for each subkey. \n",
    "\n",
    "<div class=\"alert alert-block alert-info\">\n",
    "\n",
    "#### Questions:\n",
    "\n",
    "1. Why are the entries in the hypothetical power matrix only numbers from '0' to '8' ?\n",
    "2. How many entries are on each line and what do they represent.\n",
    "3. How many rows does the hypothetical power matrix have? Why do we need so many rows.\n",
    "4. How many power matrixes do we need.\n",
    "5. (**10 bonus points for complete answer**) For subkey=0, keyguess=0, ciphertext $CT_1$, and plaintext $PT_2$, show how the hamming distance equation above computes the hamming distance. Subkey 0 is influenced by the least significant byte (LSB) of plaintext and ciphertext. Open the files <code>plaintext.txt</code> and <code>ciphertext.txt</code> to determine the values for $CT_1$ and $PT_2$. Then look at the hypothetical power matrix for subkey 0 and confirm that you computed the correct value.\n",
    "</div>\n"
   ]
  },
  {
   "cell_type": "code",
   "execution_count": null,
   "metadata": {
    "tags": []
   },
   "outputs": [],
   "source": [
    "if os.path.isfile(HYPO_FILE):\n",
    "    # already exists. load it\n",
    "    hypotheticalPower = powermodelUtils.loadHypoPower(HYPO_FILE)\n",
    "else:\n",
    "    # not there. generate it\n",
    "    hypotheticalPower = powermodel.getHypotheticalPower(PLAIN_FILE,\n",
    "                                                    CIPHER_FILE,\n",
    "                                                    acqConf['traceNum'])\n",
    "    powermodelUtils.saveHypoPower(hypotheticalPower, HYPO_FILE)\n",
    "\n",
    "powermodelUtils.showHypoPower(hypotheticalPower, plainFile=PLAIN_FILE, cipherFile=CIPHER_FILE)"
   ]
  },
  {
   "cell_type": "markdown",
   "metadata": {},
   "source": [
    "## FOBOS Analysis\n",
    "\n",
    "### Loading Measurements\n",
    "\n",
    "First, lets load the traces that you measured during the acquisition step by running the following cell, and show what they look like."
   ]
  },
  {
   "cell_type": "code",
   "execution_count": null,
   "metadata": {},
   "outputs": [],
   "source": [
    "##plotting settings\n",
    "cpaConf['plot'] = True\n",
    "cpaConf['plotSize'] = (10,8)\n",
    "cpaConf['plotFontSize'] = 18\n",
    "# load traces from file.\n",
    "traceSetOrig = traceset.TraceSet(traceNum=min(100,cpaConf['traceNum']),\n",
    "                            fileName=TRACES_FILE)\n",
    "\n",
    "measuredPowerOrig = traceSetOrig.traces\n",
    "print(f'The shape of the traces matrix is {measuredPowerOrig.shape}')\n",
    "\n",
    "maxtrace = 100\n",
    "plt.figure(figsize=cpaConf['plotSize'])\n",
    "plt.rcParams.update({'font.size': cpaConf['plotFontSize']})\n",
    "plt.xlabel('Sample')\n",
    "plt.ylabel('Amplitdue')\n",
    "plt.title('Traces')\n",
    "for i in range(min(maxtrace, cpaConf['traceNum'])):\n",
    "    plt.plot(measuredPowerOrig[i])"
   ]
  },
  {
   "cell_type": "markdown",
   "metadata": {},
   "source": [
    "### Analysis Configuration\n",
    "\n",
    "During Acquisition, we already shortened the length of the traces to stop somewhere near the end of the *interesting* clock cycle, i.e. the point of attack. Unfortunatley, we were not able to start the trace closer to the beginning of the *interesting* clock cycle.\n",
    "\n",
    "FOBOS Analysis can crop the traces, so that it computes the correlation coefficients for fewer samples. It uses the following two parameters:\n",
    "\n",
    "* <code>cropStart</code> specifies the first sample in a trace that should be analyzed.\n",
    "* <code>cropEnd</code> specifies the last samaple in a trace that should be analyzed.\n",
    "\n",
    "\n",
    "<div class=\"alert alert-block alert-info\">\n",
    "\n",
    "#### Questions:\n",
    "\n",
    "6. Looking at the trace graph above, what is the range of samples for the first clock cycle (Hint: AES starts after loading data)? Set the <code>cropStart</code> and <code>cropEnd</code> parameters in the code below and run the cell.\n",
    "</div>"
   ]
  },
  {
   "cell_type": "code",
   "execution_count": null,
   "metadata": {},
   "outputs": [],
   "source": [
    "cpaConf['cropStart'] = \n",
    "cpaConf['cropEnd']   = \n",
    "# cpaConf['traceNum'] = 4000  # override acquisiton_config parameter here if desired\n",
    "# save config file\n",
    "cpaConfFile = open(os.path.join(analysisDir, 'cpaConfig.json'), 'w')\n",
    "cpaConfFile.write(json.dumps(cpaConf, indent=4))\n",
    "cpaConfFile.close()"
   ]
  },
  {
   "cell_type": "markdown",
   "metadata": {},
   "source": [
    "Now plot the graph with the cropped traces. The figure will be saved under the name <code>cropped_traces.png</code> in the <code>analysis/attempt-xx</code> directory."
   ]
  },
  {
   "cell_type": "code",
   "execution_count": null,
   "metadata": {},
   "outputs": [],
   "source": [
    "# load traces from file.\n",
    "traceSet = traceset.TraceSet(traceNum=cpaConf['traceNum'],\n",
    "                            fileName=TRACES_FILE,\n",
    "                            cropStart=cpaConf['cropStart'],\n",
    "                            cropEnd=cpaConf['cropEnd'])\n",
    "\n",
    "measuredPower = traceSet.traces\n",
    "print(f'The shape of the traces matrix is {measuredPower.shape}')\n",
    "\n",
    "maxtrace = 100\n",
    "fig = plt.figure()\n",
    "fig.patch.set_facecolor('white')\n",
    "plt.figure(figsize=cpaConf['plotSize'])\n",
    "plt.rcParams.update({'font.size': cpaConf['plotFontSize']})\n",
    "plt.xlabel('Sample')\n",
    "plt.ylabel('Amplitdue')\n",
    "plt.title('Cropped Traces')\n",
    "for i in range(min(maxtrace, cpaConf['traceNum'])):\n",
    "    plt.plot(measuredPower[i])\n",
    "plt.savefig(os.path.join(analysisDir, 'cropped_traces.png'),facecolor=fig.get_facecolor())"
   ]
  },
  {
   "cell_type": "markdown",
   "metadata": {},
   "source": [
    "<div class=\"alert alert-block alert-info\">\n",
    "\n",
    "#### Questions:\n",
    "7. Include the graph of the cropped traces in your report.\n",
    "</div>"
   ]
  },
  {
   "cell_type": "markdown",
   "metadata": {},
   "source": [
    "## Correlation Power Analysis (CPA) Attack\n",
    "\n",
    "The following cell will run the attack. You can configure two parameters:\n",
    "\n",
    "* <code>plot</code> **True** will plot correlation and MTD graphs, **False** will save time by not plotting the graphs.\n",
    "* <code>numKeys</code> lets you set how many subkeys the attack should try to recover. The more subkeys, the more time it will take.\n",
    "\n",
    "Therefore, when fine tuning parameters of acquisition and analysis set <code>plot</code> to **False** and <code>numKyes</code> to **1**. These are the default values.\n",
    "\n",
    "Now run the following cell to run the attack. With plot generation and computation for all subkeys it will take several minutes to finish. This will use the hypothetical power matrix (for each subkey) and the traces collected from the hardware."
   ]
  },
  {
   "cell_type": "code",
   "execution_count": null,
   "metadata": {},
   "outputs": [],
   "source": [
    "# Configure the attack\n",
    "cpaConf['plot'] = False  # generate plots, [True|False], default: False\n",
    "numKeys         = 1      # number of subkey bytes to attack, default: 1\n",
    "#####################\n",
    "# Run the attack\n",
    "cpaAttacker = cpa.CPA()\n",
    "C = cpaAttacker.doCPA(measuredPower=measuredPower,\n",
    "                      hypotheticalPower=hypotheticalPower,\n",
    "                      numTraces= cpaConf['traceNum'],\n",
    "                      analysisDir=analysisDir,\n",
    "                      MTDStride= 100,\n",
    "                      numKeys = numKeys,\n",
    "                      plot=cpaConf['plot'], # enable/disable plots\n",
    "                      plotSize=cpaConf['plotSize'],\n",
    "                      plotFontSize=cpaConf['plotFontSize']\n",
    "                      )"
   ]
  },
  {
   "cell_type": "markdown",
   "metadata": {},
   "source": [
    "<div class=\"alert alert-block alert-info\">\n",
    "\n",
    "#### Questions:\n",
    "8.  If the script above found a subkey value (i.e. presumed correct key guess), \n",
    "    record the value, correlation value and sample number in your report. \n",
    "    If not, please change the crop settings and try again.\n",
    "9.  Open the file <code>key.txt</code> that you saw during the acquisition step and check if the subkey that \n",
    "    was found matches the most significant byte (MSB), i.e. left most in the file. \n",
    "    This file should be in <code>fobosworkspace/aes</code>. If it does not match,\n",
    "    change the crop settings and try again. If it still does not match, you might have to go back\n",
    "    to the data acquisition and change settings there. Please read the instructions carefully.\n",
    "10. Open the file <code>topKeys-00.json</code> in the <code>analysis/attempt-</code>*number* \n",
    "    directory and examine the top 5 key guesses, correlation values, and time (sample number) \n",
    "    that were found. You might have to click on the triangles to expand the items in the json file.\n",
    "    Note: The key guesses are here decimal and not hexadecimal notation.  Time is given as sample\n",
    "    number within the cropped sample window, e.g. when you choose a crop start at 100, then the\n",
    "    time value of 50 in the file mapps to the actual sample number 100+50=150.\n",
    "    Copy this data as a table into your report.\n",
    "11. Now change the number of keys <code>numKeys</code> to match the number of subkey bytes of AES. \n",
    "    Also set <code>plot</code> to **True** to generate the graphs. Run the attack again. \n",
    "    Note the number of subkeys in your report. \n",
    "12. The result of the attack above shows the sample numbers where each subkey byte was found. \n",
    "    The sample numbers are in relation to the start of the cropped sample window. What\n",
    "    is the range of these sample numbers. Add the crop start to the sample number to get the\n",
    "    absolute sample number of the original trace.\n",
    "13. Why do we not get all subkey bytes from the same sample number. After all, this implementation\n",
    "    of AES, as shown in the block diagram above, applies all subkey bytes during the same clock cycle.\n",
    "</div>\n",
    "\n"
   ]
  },
  {
   "cell_type": "markdown",
   "metadata": {},
   "source": [
    "FOBOS generates two types of graphs for you. The first are the **Measurement to Disclosure (MTD)** graphs, one for each subkey. They show on the x-axis the number of traces analyzed and on the y-axis in blue the highest and the lowest correlation value found for any key guess except the presumed correct one, for that many analyzed traces. Additionally, they show in red the correlation for the assumed correct keyguess. The number of traces where the red curve (presumed correct key) leaves the space between the blue lines (best other key guesses), shows the minimum number of traces required to obtain this subkey byte.\n",
    "\n",
    "The other graph, **Correlation** graph, shows on the x-axis the sample number, based on the start of the cropped sample window, and on the y-axis the correlation value. From this graph you can see when in time (sample number) the correlation is the highest. The black line is the correlation for the presumed correct keyguess.\n",
    "\n",
    "The graphs will be generated in the <code>fobosworkspace/aes/attempt-xx/analysis/attempt-</code>*number* directory.\n",
    "\n",
    "<div class=\"alert alert-block alert-info\">\n",
    "\n",
    "#### Questions:\n",
    "14. Copy the MTD and the Correlation graph for subkey byte 0 into your report.\n",
    "15. Determine the range of MTD for the different subkey bytes.\n",
    "16. What is the minimum number of traces needed for full key recovery?\n",
    "17. Why do some key bytes require fewer measurements than others."
   ]
  },
  {
   "cell_type": "markdown",
   "metadata": {},
   "source": [
    "The last questions are about your experience with this project.\n",
    "<div class=\"alert alert-block alert-info\">\n",
    "\n",
    "#### Questions:\n",
    "18. How much time did you spend on the **data acquisition part**.\n",
    "19. What concept was the hardest to understand.\n",
    "20. Which step took the most time.\n",
    "19. How much time did you spend on the **data analysis part**.\n",
    "20. What concept was the hardest to understand.\n",
    "21. Which step took the most time.\n",
    "22. Do you think it was worth it accessing actual hardware and performing real physical measurements \n",
    "    or would a simmulation be sufficient for you to understand the details and difficulties of \n",
    "    correlation power analysis.\n",
    "23. What were the biggest hurdles you had to overcome.\n",
    "24. How could this project be improved.\n",
    "</div>"
   ]
  }
 ],
 "metadata": {
  "kernelspec": {
   "display_name": "Python 3 (ipykernel)",
   "language": "python",
   "name": "python3"
  },
  "language_info": {
   "codemirror_mode": {
    "name": "ipython",
    "version": 3
   },
   "file_extension": ".py",
   "mimetype": "text/x-python",
   "name": "python",
   "nbconvert_exporter": "python",
   "pygments_lexer": "ipython3",
   "version": "3.10.12"
  }
 },
 "nbformat": 4,
 "nbformat_minor": 4
}
