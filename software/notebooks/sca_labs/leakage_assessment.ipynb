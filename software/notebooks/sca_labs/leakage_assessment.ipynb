{
 "cells": [
  {
   "cell_type": "markdown",
   "metadata": {},
   "source": [
    "# <div align=\"center\">Project 2c: Side-Channel Leakage Assessment<div>\n",
    "\n",
    "<p><div align=\"center\">Due Date: Sunday April 11th, 2021, 11:59 PM</div></p>\n",
    "\n",
    "<div align=\"center\"><b>You are expected to work in groups of two. Address all questions listed in this document in your final report. Submit the report on <a href=\"https://mymasonportal.gmu.edu\" target=\"_blank\">MyMason</a> in PDF format.</div>"
   ]
  },
  {
   "cell_type": "markdown",
   "metadata": {},
   "source": [
    "## Test Vector Leakage Assessment\n",
    "Unprotected cryptographic implementations leak information if not protected properly using side channel counter measures. To test countermeasure effectiveness, key recovery attacks (e.g DPA) can be mounted at several attack points to see if the key can be recovered. \n",
    "However, mounting such attacks, which includes analyzing the algorithm to find all possible points of attack, coming up with the power models, obtaining the measurements, etc., is time consuming and requires experience with these attacks and detailed knowledge of the implementation. You have been through this for one possible point of attack of an AES implementation in the previous parts of Project 2.\n",
    "Leakage assessment methodologies allow you to quickly determine if there is a significat leakage from the implementation.\n",
    "\n",
    "### Welch's T-Test\n",
    "Welch's t-test is a moments-based statistical test used in a wide range of scientific research to show if two populations are significantly different. This test is used in the **Test Vector Leakage Assessment (TVLA)** methodology which has been used in many publications to test if there is significant information leakage from an implementation.  \n",
    "If an implementation is secure against DPA, its power consumption must be independent of the algorithm's intermediate values. This implies that power traces collected when processing fixed data and traces collected when processing random data should be statistically indistinguishable. We call the two trace sets $Q_f$ and $Q_r$ respectively. A $t$ value is calculated as follows:  \n",
    "\n",
    "\\begin{equation}\n",
    "t = \\frac{\\mu_f - \\mu_r}{\\sqrt{\\frac{s_f^2}{n_f} + \\frac{s_r^2}{n_r}}}     \n",
    "\\end{equation}\n",
    "\n",
    "Where $\\mu_f$ and $\\mu_r$ are the means, $s_f$ and $s_r$ are the standard deviations and $n_f$ and $n_r$ are the number of samples in the sets. \n",
    "The **null hypothesis** is that the means of the two trace sets $Q_f$ and $Q_r$ are equal (i.e.,  the two trace sets are indistinguishable). We use the calculated $t$ value as an indicator to reject the null hypothesis at certain confidence level. If $\\mid t \\mid > 4.5 $ we reject the null hypothesis at a confidence level of $99.999\\%$ (i.e., $p<10^{-5}$). This means the two sets $Q_f$ and $Q_r$ are distinguishable and the cryptographic core is likely leaking information. However, this doesn't prove that the leakage can be exploited to obtain secret information, and it doesn't recover any secret information itself.\n",
    "\n",
    "The point of doing such a test is to give the countermeasure designer more confidence on the soundness of the protection. However, recent research has shown that even implementations passing the t-test can leak information in ways the t-test does not capture. More advanced test have been therfore developed. Never the less, TVLA is still a powerful tool and the first test to be performed for SCA leakage evaluation."
   ]
  },
  {
   "cell_type": "markdown",
   "metadata": {},
   "source": [
    "## Leakage Analysis Process\n",
    "\n",
    "The Leakage analysis process is much simpler and shorter than the side channel analysis process. It consists of only two steps.\n",
    "\n",
    "### Step 1: Data Acquisition - Power Measurements\n",
    "\n",
    "We measure the power consumption of the crypto device (DUT) while it encrypts $n_f$ data blocks with the same fixed value and $n_r$ data blocks with random values. The total number of data blocks is $D=n_f+n_r$. These values can be written as a vector $\\mathbf{d} = [d_1, d_2, \\ldots, d_D]$. The fixed and random data blocks are randomly interleaved as the power consumption of processing the current data block might have some dependencies on the data of the previous data block. One data block i.e., plain text of the same size as the cryptographic algorithms input size in the format that the hardware implementation requires, is called a test vector. \n",
    "\n",
    "A single power measurement value obtained from an oscilloscope or ADC is called a sample.\n",
    "All samples collected during the encryption or decryption of a single data block comprise a trace.\n",
    "The trace generated while encrypting or decrypting a data block $d_i$ consists of $T$ samples and can be viewed as a vector $\\mathbf{t}_i = [t_{i,1}, t_{i,2}, \\ldots, t_{i,T}]$.\n",
    "The traces are stacked in a matrix $\\mathbf{T}$ with dimensions $D \\times T$ where each row $i$ is a trace generated while encrypting or decrypting block $d_i$.\n",
    "\n",
    "\n",
    "### Step 2: Data Analysis - Test Vector Leakage Assessment (TVLA)\n",
    "\n",
    "The collected traces $\\mathbf{T}$ will be split into two trace sets, one, $Q_f$ comprised of all traces recorded when the fixed data blocks were encrypted and the other one, $Q_r$ with all the traces recorded when random data blocks were encrypted. The Welche's T-test is applied to see if we can distinguish between the two sets."
   ]
  },
  {
   "cell_type": "markdown",
   "metadata": {},
   "source": [
    "# TVLA on Unprotected AES\n",
    "\n",
    "## FOBOS Acquisition Configuration\n",
    "\n",
    "The block of python code below this cell loads all libraries FOBOS requires and configures FOBOS for data acquisition. We now examine each section of the code.\n",
    "The following steps are the same as the ones you exercized for project 2a. Only the differences are highlighted here.\n",
    " \n",
    "### Files and Locations:\n",
    "\n",
    "In order to perform TVLA, we have to generate specific test vectors that randomly interleave a fixed test vector with randomly generated ones. Therefore we give this project a new **projectName** which is also the name of the directory inside the workspace in which FOBOS stores all files pertaining to this project. As we are perfoming TVLA of an implementation of AES, we simply name it <code>aes_tvla</code>. You can change it though to anything you like as long as its a valid Linux directory name. \n",
    "\n",
    "FOBOS expects the following file inside the project directory:\n",
    "\n",
    "- **bitFile**   <code>half_duplex_dut.bit</code> contains the bitstream needed to program the DUT FPGA with the algorithm under test.\n",
    "\n",
    "Before we can run TVLA, we have to generate test vectors that the FOBOS DUT understands. We will use a script that requires a key and a fixed plaintext. It generates random plaintext, interleaves the fixed and the random plaintext in a random fashion and creates test vectors.\n",
    "It keeps track of which test vector is fixed and which is random using the <code>fvrFile</code> in which is records a '0' if the plaintext was fixed and a '1' if the plaintext was random. \n",
    "\n",
    "- **fixedPlaintext** the value of the fixed plaintext block for AES.\n",
    "- **fixedKey** the value of the key we want to use.\n",
    "- **fvrFile**   <code>fvrchoicefile.txt</code> keeps track of which test vector was fixed '0' or random '1'\n",
    "- **dinFile**   <code>dinFile.txt</code> contains test vectors in FOBOS format that will be send to the DUT. These testvectors contain the plaintext as well as the key. \n",
    "\n",
    "FOBOS creates a directory called <code>capture</code> inside the project folder. Each time you run test vectors and measure traces, a new folder <code>attempt-</code>*number* is created inside the <code>capture</code> directory. It will contain a copy of the <code>dinFile.txt</code> and the <code>fvrchoicefile.txt</code> files as well as the output files:\n",
    "\n",
    "- **cipherFile** <code>ciphertext.txt</code> contains the ciphertext that the cipher generated from the test vectors.\n",
    "- **traceFile**  <code>powerTraces.npy</code> contains the ADC / oscilloscope measurements for all traces in numpy format.\n",
    "\n",
    "### Cipher Specific Information\n",
    "\n",
    "Last, FOBOS needs to know some information about the cipher we want to attack, namely how big its input block size, output block size, and key size are. All numbers are to be given in bytes. This time all values are preconfigured.\n",
    "\n",
    "Run the following cell (Shift + Enter) to import libraries needed for the capture software and configure input and output files.\n"
   ]
  },
  {
   "cell_type": "code",
   "execution_count": null,
   "metadata": {},
   "outputs": [],
   "source": [
    "# import libraries\n",
    "import os\n",
    "import sys\n",
    "import shutil\n",
    "import json\n",
    "import numpy as np\n",
    "import matplotlib.pyplot as plt\n",
    "import foboslib.traceset as traceset \n",
    "from foboslib.fvrTVGen import FvrTVGen\n",
    "import foboslib.ttest\n",
    "import foboslib.pynqctrl\n",
    "from foboslib.fobosctrl import FOBOSCtrl\n",
    "import foboslib.projmgr as projmgr\n",
    "import foboslib.nexys3dut\n",
    "#######################################################\n",
    "# Acquisition Configuration\n",
    "acqConf = {}\n",
    "# Connection to Control Board\n",
    "acqConf['ip'] = '192.168.10.99'\n",
    "acqConf['port'] = 9995\n",
    "# File Names and Locations\n",
    "acqConf['workspace'] = \"fobosworkspace\"     # Folder to store projects\n",
    "acqConf['projectName'] = \"aes_tvla\"         # Name of this project. Files will be in workspace/projectName/\n",
    "acqConf['bitFile'] = \"half_duplex_dut.bit\"  # Bitstream for programming the DUT (target) \n",
    "acqConf['fixedPlaintext'] = \"55555555555555555555555555555555\"\n",
    "acqConf['fixedKey'] = \"00112233445566778899AABBCCDDEEFF\"\n",
    "acqConf['fvrFile'] = \"fvrchoicefile.txt\"    # fixed vs. random indication\n",
    "acqConf['dinFile'] = \"dinFile.txt\"          # test vectors in FOBOS format incl. plaintext and key\n",
    "acqConf['cipherFile'] = \"ciphertext.txt\"    # observed ciphertext, result from applying test vectors\n",
    "acqConf['traceFile']  = \"powerTraces.npy\"   # Name of file for recording power traces\n",
    "# Cipher Specific Information\n",
    "acqConf['blockSize'] = 16                   # size of a block of plaintext in bytes\n",
    "acqConf['cipherSize'] = 16                  # size of a block of ciphertext in bytes\n",
    "acqConf['keySize'] = 16                     # size of the key in bytes\n"
   ]
  },
  {
   "cell_type": "markdown",
   "metadata": {},
   "source": [
    "### Acquisition Settings:\n",
    "\n",
    "The next thing we have to configure are the specifics for the test. This includes the number of traces we want to run, how fast the DUT clock should run, the oscilloscope configuration, and what the output length of the cipher is.\n",
    "\n",
    "- **traceNum** is the number of traces we want to run. Lets start with a small number, e.g. 10.\n",
    "- **DUTclk** is the clock frequency of the device under test in MHz. Slow clock frequencies lead to a cleaner signal, hence we typically run at 1 MHz.\n",
    "- **samplingFreq** specifies how fast the oscilloscope should sample (measure) the power consumption. The unit is Msps which stands for Million samples per second.\n",
    "- **samplesPerTrace** tells the oscilloscope after how many samples it should stop recording for each trace.\n",
    "- **ADCgain** specifies the how much the signal from the power probe should be amplified. The goal is to have a signal use most of the range between 0..1023 as our ADC has a 10-bit resolution. If the sginal gets clipped, i.e. has straight lines on top at 1023 or bottom at 0, the gain was too high and has to be reduced. Please be careful when changing this parameter.\n",
    "\n",
    "\n",
    "<div class=\"alert alert-block alert-info\">\n",
    "\n",
    "#### Questions:\n",
    "\n",
    "1. In the code below, set the DUT clock frequency **DUTclk** to 1 MHz and oscilloscope sampling frequency **samplingFreq** to 5 Msps. How many samples will be collected every DUT clock cycle?\n",
    "2. If you want to collect the entire AES encryption process for one test vector (one block), what is the number of samples you need to collect. (Hint : This implemetation needs first 4 clock cycles to load data + 11 clock cycles to finish the AES encryption). Using the number of samples you calculated, set the **samplesPerTrace** in the script. Leave all the other parameters at the default settings. Note: This time the sampling frequency is lower than in project 2a.\n",
    "</div>\n",
    "\n",
    "After you finish the configuration, run the following cell."
   ]
  },
  {
   "cell_type": "code",
   "execution_count": null,
   "metadata": {},
   "outputs": [],
   "source": [
    "#Acquistion configuration\n",
    "acqConf['traceNum'] = 10             # number of traces to run [default: 10]\n",
    "acqConf['DUTClk'] =                  # clock frequency of the DUT in MHz, [range: 1 - 100]\n",
    "acqConf['samplingFreq'] =            # sampling frequency of the Oscilloscope in Msps, [range: 1 - 100]\n",
    "acqConf['samplesPerTrace'] =         # number of sample in one trace [range: 1 - 2^17]\n",
    "acqConf['ADCGain'] = 40              # amplification of ADC input signal [default: 40][range: 0 - 60]\n",
    "# Configure project directories\n",
    "pm = projmgr.ProjectManager()\n",
    "pm.setWorkSpaceDir(acqConf['workspace'])\n",
    "pm.setProjName(acqConf['projectName'])\n",
    "projDir = pm.getProjDir()"
   ]
  },
  {
   "cell_type": "markdown",
   "metadata": {},
   "source": [
    "### Generating Test Vectors\n",
    "\n",
    "The following commands generate a file with as many plaintext blocks containing random values as we want to record traces. Approximately half of them will have the fixed value <code>fixedPlaintext</code> and the other half will have random values. It then uses them and the key to generate test vectors in FOBOS format and stores them in the file <code>dinFile</code>. It stores information about which test vector was fixed and which random in the file <code>fvrFile</code>.\n",
    "In order to examine the contents of both files, traverse the directory tree on the left to *fobosworkspace/aes_tvla* and double-click the file. This will open a new tab with the contents of this file."
   ]
  },
  {
   "cell_type": "code",
   "execution_count": null,
   "metadata": {},
   "outputs": [],
   "source": [
    "# Generating Test Vectors\n",
    "tvGen = FvrTVGen(traceNum=acqConf['traceNum'],\n",
    "             blockSize=acqConf['blockSize'],\n",
    "             keySize=acqConf['keySize'],\n",
    "             cipherSize=acqConf['cipherSize'],\n",
    "             fixedKey=acqConf['fixedKey'],\n",
    "             fixedPlaintext=acqConf['fixedPlaintext'],\n",
    "             dinFile= os.path.join(projDir, acqConf['dinFile']),\n",
    "             fvrFile= os.path.join(projDir, acqConf['fvrFile'])\n",
    "             )\n",
    "tvGen.gen_fvr()"
   ]
  },
  {
   "cell_type": "markdown",
   "metadata": {},
   "source": [
    "<div class=\"alert alert-block alert-info\">\n",
    "\n",
    "#### Questions:\n",
    "\n",
    "3.  Look at the file <code>dinFile.txt</code>. It contains the test vectors in FOBOS \n",
    "    format, one test vector per line. Copy the file into your report and determine \n",
    "    which vectors are fixed and which are randomly generated.\n",
    "4.  How many fixed test vectors does <code>dinFile.txt</code> contain and how many \n",
    "    random test vectors.\n",
    "5.  Look at the entries in the fvrchoicefile.txt (0's and 1's). What do they mean?  \n",
    "</div>"
   ]
  },
  {
   "cell_type": "markdown",
   "metadata": {},
   "source": [
    "## FOBOS Acquisition Measurements\n",
    "\n",
    "### Run the Measurements\n",
    "\n",
    "The next cell runs the measurements. First, it acquires access and then connects to FOBOS test setup: \"hardware\". This locks the hardware while you are  using it. Once you finish the hardware is released to allow others to access it.\n",
    "You should see a message saying 'Acquired hardware lock'. If the hardware is used it will wait for some time until hardware is available. If this does not work, please try again after few minutes. But **please do not interrupt this cell if it is still trying to acquire access**.\n",
    "\n",
    "Once the hardware is accessed, the script first applies the configuration parameters you configured previously to the control board and the oscilloscope / ADC. Then it programms the FPGA of the DUT. It specifies the input and output files and creates a new folder <code>attempt-</code>number inside the <code>capture</code> directory for the output files and copies the input files <code>dinFile.txt</code> and <code>fvrchoicefile.txt</code> files into it. \n",
    "\n",
    "<span style=\"color:red\">Please pay attention to the messages generated by the next cell and note the attempt-xx directory number.</span>\n",
    "\n",
    "After all this setup, it sends the test vectors one at a time to the control board, receives the ciphertext and power traces.\n",
    "\n",
    "Once its done, it will release the hardware lock so that other students can use it. You should see a message saying 'Released hardware lock.'\n",
    "\n",
    "If the cell ends with an error message and does not release the hardware lock, you will have to wait for 5 minutes until the lock is released automatically before you can run this cell again."
   ]
  },
  {
   "cell_type": "code",
   "execution_count": null,
   "metadata": {
    "tags": []
   },
   "outputs": [],
   "source": [
    "# connect to hardware and lock it ######################################\n",
    "ctrl = foboslib.pynqctrl.PYNQCtrl(acqConf['ip'], acqConf['port'])\n",
    "# Apply config to ctrl board ###########################################\n",
    "try:\n",
    "    ctrl.setDUTClk(acqConf['DUTClk'])\n",
    "    ctrl.setDUTInterface(FOBOSCtrl.INTERFACE_4BIT)\n",
    "    ctrl.setOutLen(acqConf['cipherSize'])\n",
    "    ctrl.setTriggerMode(FOBOSCtrl.TRG_FULL)\n",
    "    # configure trace sampling #############################################\n",
    "    ctrl.setSamplingFrequency(acqConf['samplingFreq'])\n",
    "    ctrl.setADCGain(acqConf['ADCGain'])\n",
    "    ctrl.setSamplesPerTrace(acqConf['samplesPerTrace'])\n",
    "except Exception as e:\n",
    "    print(e)\n",
    "    ctrl.disconnect()\n",
    "else:\n",
    "    # program DUT ##########################################################\n",
    "    dut = foboslib.nexys3dut.Nexys3DUT()\n",
    "    bitFile = os.path.join(projDir, acqConf['bitFile'])\n",
    "    dut.setBitFile(bitFile)\n",
    "    dut.program()\n",
    "    # prepare i/o files ####################################################\n",
    "    tvFileName = os.path.join(projDir, acqConf['dinFile'])\n",
    "    #plainFileName = os.path.join(projDir, acqConf['plainFile'])\n",
    "    fvrFileName = os.path.join(projDir, acqConf['fvrFile'])\n",
    "    tvFile = open(tvFileName, \"r\")\n",
    "    captureDir = pm.getCaptureDir()\n",
    "    cipherFileName = os.path.join(captureDir, acqConf['cipherFile'])\n",
    "    cipherFile = open(cipherFileName, \"w\")\n",
    "    traceFileName = os.path.join(captureDir, acqConf['traceFile'])\n",
    "    traceFile = open(traceFileName, \"a+b\")\n",
    "    shutil.copy(tvFileName, captureDir)\n",
    "    #shutil.copy(plainFileName, captureDir)\n",
    "    shutil.copy(fvrFileName, captureDir)\n",
    "    # save config to a file\n",
    "    configFile = open(os.path.join(captureDir, 'acquisitionConfig.json'), \"w\")\n",
    "    configFile.write(json.dumps(acqConf, indent=4))\n",
    "    #configFile.write(ctrl.config)\n",
    "    #print(ctrl.config)\n",
    "    configFile.close()\n",
    "    # Get traces############################################################\n",
    "    print('Processing test vectors ...')\n",
    "    traceNum = 0\n",
    "    while traceNum < acqConf['traceNum']:\n",
    "        data = tvFile.readline()\n",
    "        status, result, trace = ctrl.processData2(data, acqConf['cipherSize'])\n",
    "        cipherFile.write(result + \"\\n\")\n",
    "        np.save(traceFile, trace)\n",
    "        if traceNum % 100 == 0:\n",
    "            sys.stdout.write('Progress:' + \"{:.2f}\".format(traceNum/acqConf['traceNum']*100) + '%\\r')\n",
    "            sys.stdout.flush()\n",
    "        traceNum += 1\n",
    "    print('Data acquisition complete.')\n",
    "    ctrl.disconnect() # release and reset control board.\n",
    "    traceFile.close()\n",
    "    cipherFile.close()\n",
    "    tvFile.close()"
   ]
  },
  {
   "cell_type": "markdown",
   "metadata": {},
   "source": [
    "### Plot and Evaluate the Measurements\n",
    "The next code cell will create a graph of the measured power consumption and plot up to 100 traces on top of each other. You can adjust the size of the plot by changing the entry for <code>figsize</code>. The figure will be saved under the name <code>traces.png</code> in the <code>capture/attempt-xx</code> directory."
   ]
  },
  {
   "cell_type": "code",
   "execution_count": null,
   "metadata": {},
   "outputs": [],
   "source": [
    "fig = plt.figure()\n",
    "fig.patch.set_facecolor('white')\n",
    "plt.rcParams.update({'font.size': 18})\n",
    "traceFile = open(traceFileName, \"r+b\")\n",
    "maxtrace = 100\n",
    "plt.figure(figsize=(10,8))\n",
    "plt.xlabel('Sample')\n",
    "plt.ylabel('Amplitude')\n",
    "plt.title('Captured Traces')\n",
    "for i in range(min(maxtrace, acqConf['traceNum'])):\n",
    "    trace = np.load(traceFile)\n",
    "    plt.plot(trace)\n",
    "\n",
    "plt.savefig(os.path.join(captureDir, 'traces.png'),facecolor=fig.get_facecolor())\n",
    "# plt.close()\n",
    "traceFile.close()"
   ]
  },
  {
   "cell_type": "markdown",
   "metadata": {},
   "source": [
    "<div class=\"alert alert-block alert-info\">\n",
    "\n",
    "#### Questions:\n",
    "\n",
    "6.  What files does the *capture/attempt-xx* directory contain?\n",
    "7.  Now lets examine the graph. Do you see all 11 peaks of AES similar to \n",
    "    project 2a? If not, adjust the number of **samplesPerTrace** and re-run \n",
    "    the boxes above starting from <code>#Acquisition Settings</code> until \n",
    "    you see the wave form for the complete AES. \n",
    "    Write the settings you used into your report.\n",
    "8.  Copy the generated graph into your report and mark the peaks relating \n",
    "    to AES indicating the round numbers.\n",
    "9.  Even though you see now all 11 peaks of AES, why does the graph looks different \n",
    "    than the one from project 2a.\n",
    "10. Which range of samples corresponds to the execution of the AES algorithm? \n",
    "    Do not include samples during transmission of data to and from AES.\n",
    "</div>"
   ]
  },
  {
   "cell_type": "markdown",
   "metadata": {},
   "source": [
    "## FOBOS Analysis\n",
    "\n",
    "### FOBOS Analysis Setup\n",
    "\n",
    "FOBOS Analysis needs to know the directory in which the measurements are stored and the accompanying acquisition settings. \n",
    "\n",
    "* **WORKSPACE1** is the location of the <code>capture</code> directory that got created for the acquisition step as **workspace**/**projectName**/capture. Inside this directory, each time an acquisition was performed an **ATTEMPT_DIR** was created, named <code>attempt-</code>*number*. \n",
    "* **ATTEMPT_DIR1** contains the measurements, ciphertext, and the acquisition settings.\n",
    "\n",
    "Set the values accordingly in the cell below and execute it."
   ]
  },
  {
   "cell_type": "code",
   "execution_count": null,
   "metadata": {},
   "outputs": [],
   "source": [
    "# Configure project directories \n",
    "WORKSPACE1 = \"fobosworkspace/aes_tvla/capture\"   # Workspace for FOBOS Analysis\n",
    "ATTEMPT_DIR1 = \"attempt-xx\"                      # the location is likely in the form attampt-i (e.g. attempt-01)\n",
    "###########################\n",
    "pm = projmgr.ProjectManager()\n",
    "pm.setWorkSpaceDir(WORKSPACE1)\n",
    "pm.setProjName(ATTEMPT_DIR1)\n",
    "projDir1 = pm.getProjDir()\n",
    "analysisDir1 = pm.getAnalysisDir()"
   ]
  },
  {
   "cell_type": "markdown",
   "metadata": {},
   "source": [
    "<span style=\"color:red\">Please pay attention to the messages generated by the previous cell and note the attempt-xx directory number.</span>"
   ]
  },
  {
   "cell_type": "markdown",
   "metadata": {},
   "source": [
    "#### Files and Locations:\n",
    "\n",
    "Now we can load the acquistion settings. The locations of the file that contains the traces and the file that kept track of which traces are fixed and which are random are retrieved from the acquisition configuration."
   ]
  },
  {
   "cell_type": "code",
   "execution_count": null,
   "metadata": {},
   "outputs": [],
   "source": [
    "# Load Acquisition Config\n",
    "tvlaConf = {}\n",
    "configFile = open(os.path.join(projDir1, 'acquisitionConfig.json'))\n",
    "acqConf = json.load(configFile)\n",
    "print(f'Acquisition config = {acqConf}')\n",
    "tvlaConf['traceNum'] = acqConf['traceNum']\n",
    "\n",
    "# Configure file names\n",
    "TRACES_FILE1 = os.path.join(projDir1, acqConf['traceFile'])  # Name of file for recording power traces\n",
    "FVR_FILE1 = os.path.join(projDir1, acqConf['fvrFile'])"
   ]
  },
  {
   "cell_type": "markdown",
   "metadata": {},
   "source": [
    "Run the following cell to display some of the traces collected form FOBOS running the unproteced AES. The graph should be exactly the same as you saw above. If this cell fails, then most likely you picked the wrong <code>attempt-xx</code>."
   ]
  },
  {
   "cell_type": "code",
   "execution_count": null,
   "metadata": {},
   "outputs": [],
   "source": [
    "##t-test/plotting settings\n",
    "tvlaConf['plot'] = True\n",
    "tvlaConf['plotSize'] = (10,8)\n",
    "tvlaConf['plotFontSize'] = 18\n",
    "MAX_TRACES = 100\n",
    "max_traces = min(MAX_TRACES, tvlaConf['traceNum'])\n",
    "# load traces from file.\n",
    "traceSetOrig = traceset.TraceSet(traceNum=max_traces,\n",
    "                                 fileName=TRACES_FILE1)\n",
    "measuredPowerOrig = traceSetOrig.traces\n",
    "print(f'The shape of the traces matrix is {measuredPowerOrig.shape}')\n",
    "fig = plt.figure()\n",
    "fig.patch.set_facecolor('white')\n",
    "plt.figure(figsize=tvlaConf['plotSize'])\n",
    "plt.rcParams.update({'font.size': tvlaConf['plotFontSize']})\n",
    "plt.xlabel('Sample')\n",
    "plt.ylabel('Amplitdue')\n",
    "plt.title('Traces')\n",
    "for i in range(max_traces):\n",
    "    plt.plot(measuredPowerOrig[i])\n",
    "    \n",
    "plt.savefig(os.path.join(analysisDir1, 'traces.png'),facecolor=fig.get_facecolor())"
   ]
  },
  {
   "cell_type": "markdown",
   "metadata": {},
   "source": [
    "### Splitting Traces\n",
    "\n",
    "The collected traces $\\mathbf{T}$ will have to be split into two trace sets, one, $Q_f$ comprised of all traces recorded when the fixed data blocks were encrypted and the other one, $Q_r$ with all the traces recorded when random data blocks were encrypted. \n",
    "The code below looks at <code>fvrFile</code> to determine which trace resulted from a test vector was fixed or random and stores the traces from the fixed test vectors in <code>trace_set0.npy</code> and from the random test vectors in <code>trace_set1.npy</code>. This might take some time when you have a large amount of test vectors."
   ]
  },
  {
   "cell_type": "code",
   "execution_count": null,
   "metadata": {},
   "outputs": [],
   "source": [
    "# load power traces\n",
    "fvrtraces = traceset.TraceSet(traceNum=tvlaConf['traceNum'],\n",
    "                              fileName=TRACES_FILE1)\n",
    "# Split them into fixed traces and random traces\n",
    "test = foboslib.ttest.Ttest()\n",
    "test.split(traces=fvrtraces.traces, \n",
    "          fvrFile=FVR_FILE1,\n",
    "          numTraces=tvlaConf['traceNum'],\n",
    "          analysisDir=projDir1)"
   ]
  },
  {
   "cell_type": "markdown",
   "metadata": {},
   "source": [
    "<div class=\"alert alert-block alert-info\">\n",
    "\n",
    "#### Questions:\n",
    "\n",
    "11. Look at the output of the previous code cell. \n",
    "    How many traces were taken for the fixed test vectors and how many for the \n",
    "    random test vectors. Does this match your result from question 4?\n",
    "</div>"
   ]
  },
  {
   "cell_type": "markdown",
   "metadata": {},
   "source": [
    "## Test Vector Leakage Assessment\n",
    "\n",
    "Run the following code to perform the t-test. It will use the two power trace files generated in the previous step.\n",
    "\n",
    "The plot has sample numbers on the x-axis and t-values on the y-axis.\n",
    "Two lines at 4.5 and -4.5 indicate the threshold discussed above.\n",
    "\n",
    "The **step** parameter in the code below allows the input files to be loaded in small chunks to avoid filling the memory."
   ]
  },
  {
   "cell_type": "code",
   "execution_count": null,
   "metadata": {},
   "outputs": [],
   "source": [
    "traceFile0 = os.path.join(projDir1, 'trace_set0.npy')\n",
    "traceFile1 = os.path.join(projDir1, 'trace_set1.npy')\n",
    "\n",
    "tvals = test.doTtest(traceFile0=traceFile0,\n",
    "                  traceFile1=traceFile1, \n",
    "                  numTraces=tvlaConf['traceNum'],\n",
    "                  step='auto',\n",
    "                  analysisDir=analysisDir1)\n",
    "test.plotTValues(t=tvals, \n",
    "                 startXlim=0, \n",
    "                 endXlim='All', \n",
    "                 startYlim=-50, \n",
    "                 endYlim=50, \n",
    "                 analysisDir=analysisDir1,\n",
    "                 traceNum=tvlaConf['traceNum'],\n",
    "                 plotSize=tvlaConf['plotSize'],\n",
    "                 plotFontSize=tvlaConf['plotFontSize']\n",
    "                )"
   ]
  },
  {
   "cell_type": "markdown",
   "metadata": {},
   "source": [
    "<div class=\"alert alert-block alert-info\">\n",
    "\n",
    "#### Questions:\n",
    "12. Include the graph above for 10 traces in your report. \n",
    "    It has been stored in <code>analysis/attempt-</code>*number* directory and \n",
    "    is called <code>t-test-result-10-traces.png</code>.\n",
    "13. What do you observe about the result, does this implementation about AES pass \n",
    "    the t-test?\n",
    "14. Now set the trace number to 100 in the Acquisition Settings and run the \n",
    "    the cells again. Don't forget the change the <code>capture/attempt-</code>\n",
    "    in the FOBOS Analysis setup step.\n",
    "    Include the resulting graph in your report.\n",
    "15. Now set the trace number to 1000 and run the code again. \n",
    "    Include the resulting graph in your report.\n",
    "16. What differences do you observe in the three graphs?\n",
    "17. Compare the last graph to the power traces you plotted above. \n",
    "    Based on the sample number, can you identify during which AES clock cycles \n",
    "    information is leaking?\n",
    "</div>"
   ]
  },
  {
   "cell_type": "markdown",
   "metadata": {},
   "source": [
    "## The effect of sampling frequency\n",
    "\n",
    "In this section, we will increase the sampling rate back to 50 Msps which is the same frequency we used in project 2a. \n",
    "\n",
    "\n"
   ]
  },
  {
   "cell_type": "markdown",
   "metadata": {},
   "source": [
    "<div class=\"alert alert-block alert-info\">\n",
    "\n",
    "#### Questions:\n",
    "18. Go back to the Acquisition Settings and set the oscilloscope sampling frequency \n",
    "    **samplingFreq** to 50 Msps. How many samples will be collected every DUT clock\n",
    "    cycle?\n",
    "19. Adjust the **samplesPerTrace** so that a full AES encryption is captured \n",
    "    with the new sampling frequency. Write the new value in your report.\n",
    "20. Set the number of traces back to 10 and run the code again. Include the \n",
    "    resulting graph in your report.\n",
    "21. Repeat step 20 this for 100 and 1000 traces.\n",
    "22. What differences do you observe between the graphs generated with \n",
    "    the two different sampling rates of 5 Msps and 50 Msps.\n",
    "    (Note: Compare t-tests with the same number of traces)\n",
    "23. Compare Correlation Power Analysis (project 2a and 2b) \n",
    "    to Test Vector Leakage Assessment (project 2c) in terms of \n",
    "    - how much time you spent,\n",
    "    - how sensitive a successful attack is to the choice of parameters for \n",
    "      data acquisition, and\n",
    "    - coverage of propable leakage points.\n",
    "</div>"
   ]
  },
  {
   "cell_type": "markdown",
   "metadata": {},
   "source": [
    "The last questions are about your experience with this project.\n",
    "<div class=\"alert alert-block alert-info\">\n",
    "\n",
    "#### Questions:\n",
    "24. How much time did you spend on project 2c.\n",
    "25. What concept was the hardest to understand.\n",
    "26. Which step took the most time.\n",
    "27. What were the biggest hurdles you had to overcome.\n",
    "28. How could this project be improved.\n",
    "</div>"
   ]
  },
  {
   "cell_type": "code",
   "execution_count": null,
   "metadata": {},
   "outputs": [],
   "source": []
  }
 ],
 "metadata": {
  "kernelspec": {
   "display_name": "Python 3",
   "language": "python",
   "name": "python3"
  },
  "language_info": {
   "codemirror_mode": {
    "name": "ipython",
    "version": 3
   },
   "file_extension": ".py",
   "mimetype": "text/x-python",
   "name": "python",
   "nbconvert_exporter": "python",
   "pygments_lexer": "ipython3",
   "version": "3.8.5"
  }
 },
 "nbformat": 4,
 "nbformat_minor": 4
}
