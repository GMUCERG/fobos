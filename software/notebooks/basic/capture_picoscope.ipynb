{
 "cells": [
  {
   "cell_type": "markdown",
   "metadata": {},
   "source": [
    "# Correlation Power Analysis Example\n",
    "\n",
    "- Setup for example AES\n",
    "- Uses Picoscope\n",
    "\n",
    "## Data Acquisition"
   ]
  },
  {
   "cell_type": "code",
   "execution_count": null,
   "metadata": {},
   "outputs": [],
   "source": [
    "# capture_picoscope\n",
    "# requires pynqserver to run on Pynq\n",
    "# requires FOBOS Shield\n",
    "# uses Picoscope\n",
    "import os\n",
    "import sys\n",
    "import shutil\n",
    "import json\n",
    "import numpy as np\n",
    "from foboslib import projmgr\n",
    "from foboslib.ctrl import pynqctrl\n",
    "from foboslib.ctrl.fobosctrl import FOBOSCtrl\n",
    "from foboslib.fobosTVGen import FobosTVGen\n",
    "#from foboslib.dut import cw305dut as DUT\n",
    "from foboslib.dut import nexys4dut as DUT\n",
    "from foboslib.scope.picoscope3000 import Picoscope\n",
    "\n",
    "#######################################################\n",
    "# Acquisition Configuration\n",
    "acqConf = {}\n",
    "# Connection to Control Board\n",
    "acqConf['ip'] = '192.168.10.93'\n",
    "acqConf['port'] = 9995\n",
    "# File Names and Locations\n",
    "acqConf['workspace']       = \"fobosworkspace\"   # Folder to store projects\n",
    "acqConf['projectName']     = \"aes_pico\"              # Name of this project. Files will be in workspace/projectName/\n",
    "acqConf['keyFile']         = \"key.txt\"          # key, must be provided in workspace/projectName/ directory\n",
    "acqConf['plainFile']       = \"plaintext.txt\"    # plaintext in hex, auto-generated\n",
    "acqConf['dinFile']         = \"dinFile.txt\"      # test vectors in FOBOS format incl. plaintext and key, auto-generated\n",
    "acqConf['cipherFile']      = \"ciphertext.txt\"   # observed ciphertext, result from applying test vectors\n",
    "acqConf['traceFile']       = \"powerTraces.npy\"  # Name of file for recording power traces\n",
    "# Cipher Specific Information\n",
    "acqConf['bitFile']         = \"aes_nexys4.bit\"    # Bitstream for programming the DUT, same directory as this notebook\n",
    "acqConf['blockSize']       = 16                 # size of a block of plaintext in bytes\n",
    "acqConf['cipherSize']      = 16                 # size of a block of cyphertext in bytes\n",
    "acqConf['keySize']         = 16                 # size of the key in bytes\n",
    "# Acquistion Configuration\n",
    "acqConf['traceNum']        = 10              # number of traces to run\n",
    "acqConf['samplingFreq']    = 50                # sampling frequency of the Oscilloscope in Msps\n",
    "acqConf['DUTClk']          = 0.5                # clock frequency of the DUT in MHz [range: 1 - 100]\n",
    "acqConf['samplesPerTrace'] = 4000               # number of ADC samples in one trace\n",
    "# PicoScope Parameters\n",
    "acqConf['Channel']         = 'CHANNEL_A'        # CHANNEL_A or CHANNEL_B\n",
    "acqConf['Coupling']        = 'AC'               # AC or DC\n",
    "acqConf['Range']           = 200                # Range in mV\n",
    "acqConf['SamplingInterval'] = 1/(acqConf['samplingFreq']/1000) # or set below\n",
    "#acqConf['SamplingInterval']= 8                  # in ns = 1/sample frequency\n",
    "acqConf['Trigger_Chan']    = 'EXTERNAL'         # CHANNEL_A, CHANNEL_B, or EXTERNAL\n",
    "acqConf['Trigger_Edge']    = 'RISING_EDGE'      # RISING_EDGE only as FOBOS trigger signals start with that\n",
    "acqConf['Trigger_Threashold']= 400              # ??? on External?"
   ]
  },
  {
   "cell_type": "code",
   "execution_count": null,
   "metadata": {},
   "outputs": [],
   "source": [
    "# Configure project directories\n",
    "pm = projmgr.ProjectManager()\n",
    "pm.setWorkSpaceDir(acqConf['workspace'])\n",
    "pm.setProjName(acqConf['projectName'])\n",
    "projDir = pm.getProjDir()"
   ]
  },
  {
   "cell_type": "code",
   "execution_count": null,
   "metadata": {},
   "outputs": [],
   "source": [
    "# create key file in tje workspace directory\n",
    "KEY = \"01 23 45 67 89 ab cd ef 00 11 22 33 44 55 66 77\"\n",
    "keyFileName = os.path.join(projDir, acqConf['keyFile'])\n",
    "keyFile = open(keyFileName, \"w\")\n",
    "keyFile.write(KEY )\n",
    "keyFile.close()"
   ]
  },
  {
   "cell_type": "code",
   "execution_count": null,
   "metadata": {},
   "outputs": [],
   "source": [
    "# Generate test vectors\n",
    "tvGen = FobosTVGen(traceNum=acqConf['traceNum'],\n",
    "                   blockSize=acqConf['blockSize'],\n",
    "                   keySize=acqConf['keySize'],\n",
    "                   cipherSize=acqConf['cipherSize'],\n",
    "                   dinFile= os.path.join(projDir, acqConf['dinFile']),\n",
    "                   plaintextFile=os.path.join(projDir, acqConf['plainFile']),\n",
    "                   keyFile=os.path.join(projDir, acqConf['keyFile'])\n",
    "                   )\n",
    "tvGen.generateTVs()"
   ]
  },
  {
   "cell_type": "code",
   "execution_count": null,
   "metadata": {},
   "outputs": [],
   "source": [
    "# Create capture directory\n",
    "captureDir = pm.getCaptureDir()\n",
    "# Open input files\n",
    "plainFileName = os.path.join(projDir, acqConf['plainFile'])\n",
    "tvFileName = os.path.join(projDir, acqConf['dinFile'])\n",
    "tvFile = open(tvFileName, \"r\")\n",
    "# Open output files\n",
    "cipherFileName = os.path.join(captureDir, acqConf['cipherFile'])\n",
    "traceFileName = os.path.join(captureDir, acqConf['traceFile'])\n",
    "cipherFile = open(cipherFileName, \"w\")\n",
    "traceFile = open(traceFileName, \"a+b\")\n",
    "# save input files\n",
    "shutil.copy(tvFileName, captureDir)\n",
    "shutil.copy(plainFileName, captureDir)\n",
    "# save config to a file\n",
    "configFile = open(os.path.join(captureDir, 'acquisitionConfig.json'), \"w\")\n",
    "configFile.write(json.dumps(acqConf, indent=4))\n",
    "configFile.close()"
   ]
  },
  {
   "cell_type": "code",
   "execution_count": null,
   "metadata": {},
   "outputs": [],
   "source": [
    "### Connecting to the Pynq Board\n",
    "# lock file is: /tmp/fobos.lock\n",
    "# delete the lock file manually if its stale\n",
    "ctrl = pynqctrl.PYNQCtrl(acqConf['ip'], acqConf['port'])"
   ]
  },
  {
   "cell_type": "code",
   "execution_count": null,
   "metadata": {},
   "outputs": [],
   "source": [
    "# Apply settings to the Pynq Board\n",
    "ctrl.setDUTClk(acqConf['DUTClk'])                 # setting DUT clock resets all modules using this clock\n",
    "ctrl.setDUTInterface(FOBOSCtrl.INTERFACE_4BIT)    # Using Target connector -> INTERFACE_4BIT\n",
    "ctrl.setDUT(FOBOSCtrl.NEXYS4)                     # Adjust Target connector pinout for DUT\n",
    "ctrl.setTriggerMode(FOBOSCtrl.TRG_FULL)           # Trigger is active during DUT operation\n",
    "ctrl.setOutLen(acqConf['cipherSize'])\n",
    "#ctrl.setSamplingFrequency(acqConf['samplingFreq'])\n",
    "#ctrl.setSamplesPerTrace(acqConf['samplesPerTrace'])\n",
    "#ctrl.setADCGain(acqConf['ADCGain'])\n",
    "#ctrl.setADCHiLo(acqConf['ADCHiLo'])"
   ]
  },
  {
   "cell_type": "code",
   "execution_count": null,
   "metadata": {},
   "outputs": [],
   "source": [
    "# Setup Picoscope\n",
    "scope = Picoscope(postTriggerSamples=acqConf['samplesPerTrace'])\n",
    "scope.setChannel(channelName=acqConf['Channel'], coupling=acqConf['Coupling'], rangemv=acqConf['Range'])\n",
    "scope.setSamplingInterval(samplingIntervalns=acqConf['SamplingInterval'])\n",
    "scope.setTrigger(channelName=acqConf['Trigger_Chan'], direction=acqConf['Trigger_Edge'], \n",
    "                 thresholdmv=acqConf['Trigger_Threashold'])"
   ]
  },
  {
   "cell_type": "code",
   "execution_count": null,
   "metadata": {},
   "outputs": [],
   "source": [
    "# Program the DUT\n",
    "dut = DUT.DUT()\n",
    "dut.setBitFile(acqConf['bitFile'])\n",
    "dut.program()"
   ]
  },
  {
   "cell_type": "code",
   "execution_count": null,
   "metadata": {},
   "outputs": [],
   "source": [
    "# Run the data acquisition\n",
    "print('Processing test vectors ...')\n",
    "traceNum = 0\n",
    "while traceNum < acqConf['traceNum']:\n",
    "    scope.arm()\n",
    "    data = tvFile.readline()\n",
    "    status, result = ctrl.processData(data, acqConf['cipherSize'])\n",
    "    cipherFile.write(result + \"\\n\")\n",
    "    trace = scope.readTrace()\n",
    "    np.save(traceFile, trace)\n",
    "    if traceNum % 100 == 0:\n",
    "        sys.stdout.write('Progress:' + \"{:.2f}\".format(traceNum/acqConf['traceNum']*100) + '%\\r')\n",
    "        sys.stdout.flush()\n",
    "    traceNum += 1\n",
    "print('Data acquisition complete.')\n",
    "scope.closeConnection()\n",
    "# release and reset control board.\n",
    "ctrl.disconnect() \n",
    "# close all files\n",
    "traceFile.close()\n",
    "cipherFile.close()\n",
    "tvFile.close()"
   ]
  },
  {
   "cell_type": "code",
   "execution_count": null,
   "metadata": {},
   "outputs": [],
   "source": [
    "import matplotlib.pyplot as plt\n",
    "fig = plt.figure()\n",
    "fig.patch.set_facecolor('white')\n",
    "plt.rcParams.update({'font.size': 18})\n",
    "traceFile = open(traceFileName, \"r+b\")\n",
    "maxtrace = 100\n",
    "plt.figure(figsize=(10,8))\n",
    "plt.xlabel('Sample')\n",
    "plt.ylabel('Amplitude')\n",
    "plt.title('Captured Traces')\n",
    "for i in range(min(maxtrace, acqConf['traceNum'])):\n",
    "    trace = np.load(traceFile)\n",
    "    plt.plot(trace)\n",
    "\n",
    "plt.savefig(os.path.join(captureDir, 'traces.png'),facecolor=fig.get_facecolor())\n",
    "# plt.close()\n",
    "traceFile.close()"
   ]
  },
  {
   "cell_type": "code",
   "execution_count": null,
   "metadata": {},
   "outputs": [],
   "source": [
    "print(result)"
   ]
  },
  {
   "cell_type": "markdown",
   "metadata": {},
   "source": [
    "## Correlation Power Analysis"
   ]
  },
  {
   "cell_type": "code",
   "execution_count": null,
   "metadata": {},
   "outputs": [],
   "source": [
    "import foboslib.cpa as cpa\n",
    "import foboslib.traceset as traceset\n",
    "import foboslib.powermodels.AESFirstLast as powermodel #code to calculate hypothetical power\n",
    "import foboslib.powermodels.utils as powermodelUtils"
   ]
  },
  {
   "cell_type": "code",
   "execution_count": null,
   "metadata": {},
   "outputs": [],
   "source": [
    "# Configure project directories\n",
    "WORKSPACE = os.path.dirname(captureDir)           # or specify other directory if needed\n",
    "ATTEMPT_DIR = os.path.basename(captureDir)        # or specify other directory if needed, e.g., \"attempt-24\""
   ]
  },
  {
   "cell_type": "code",
   "execution_count": null,
   "metadata": {},
   "outputs": [],
   "source": [
    "# Create analysis project directory\n",
    "pm = projmgr.ProjectManager()\n",
    "pm.setWorkSpaceDir(WORKSPACE)\n",
    "pm.setProjName(ATTEMPT_DIR)\n",
    "projDir = pm.getProjDir()\n",
    "analysisDir = pm.getAnalysisDir()"
   ]
  },
  {
   "cell_type": "code",
   "execution_count": null,
   "metadata": {},
   "outputs": [],
   "source": [
    "# read acquisition settings\n",
    "cpaConf = {}\n",
    "configFile = open(os.path.join(projDir, 'acquisitionConfig.json'))\n",
    "acqConf = json.load(configFile)\n",
    "configFile.close()\n",
    "print(f'Acquisition config = {acqConf}')\n",
    "cpaConf['traceNum'] = acqConf['traceNum']\n",
    "\n",
    "# Configure file names\n",
    "HYPO_FILE = os.path.join(projDir, \"hypotheticalPower.npy\")\n",
    "TRACES_FILE = os.path.join(projDir, acqConf['traceFile'])\n",
    "PLAIN_TEXT = os.path.join(projDir, acqConf['plainFile'])\n",
    "CIPHER_TEXT = os.path.join(projDir, acqConf['cipherFile'])"
   ]
  },
  {
   "cell_type": "code",
   "execution_count": null,
   "metadata": {},
   "outputs": [],
   "source": [
    "# Create hypothetical power model\n",
    "\n",
    "#if os.path.isfile(HYPO_FILE):\n",
    "    # already exists. load it\n",
    "#    hypotheticalPower = powermodelUtils.loadHypoPower(HYPO_FILE)\n",
    "#else:\n",
    "    # not there. generate it\n",
    "hypotheticalPower = powermodel.getHypotheticalPower(PLAIN_TEXT, CIPHER_TEXT, cpaConf['traceNum'])\n",
    "powermodelUtils.saveHypoPower(hypotheticalPower, HYPO_FILE)\n",
    "## end if\n",
    "powermodelUtils.showHypoPower(hypotheticalPower, plainFile=PLAIN_TEXT, cipherFile=CIPHER_TEXT)"
   ]
  },
  {
   "cell_type": "code",
   "execution_count": null,
   "metadata": {},
   "outputs": [],
   "source": [
    "# load traces from file and crop them.\n",
    "cpaConf['cropStart'] = 800\n",
    "cpaConf['cropEnd'] = 820\n",
    "traceSet = traceset.TraceSet(traceNum=cpaConf['traceNum'],\n",
    "                            fileName=TRACES_FILE,\n",
    "                            cropStart=cpaConf['cropStart'],\n",
    "                            cropEnd=cpaConf['cropEnd'])\n",
    "\n",
    "measuredPower = traceSet.traces\n",
    "print(f'The shape of the traces matrix is {measuredPower.shape}')\n",
    "\n",
    "\n",
    "maxtrace = 100\n",
    "fig = plt.figure()\n",
    "fig.patch.set_facecolor('white')\n",
    "plt.rcParams.update({'font.size': 18})\n",
    "traceFile = open(traceFileName, \"r+b\")\n",
    "maxtrace = 100\n",
    "plt.figure(figsize=(10,8))\n",
    "plt.xlabel('Sample')\n",
    "plt.ylabel('Amplitdue')\n",
    "plt.title('Cropped Traces')\n",
    "for i in range(min(maxtrace, cpaConf['traceNum'])):\n",
    "    plt.plot(measuredPower[i])\n",
    "plt.savefig(os.path.join(analysisDir, 'cropped_traces.png'),facecolor=fig.get_facecolor())"
   ]
  },
  {
   "cell_type": "code",
   "execution_count": null,
   "metadata": {},
   "outputs": [],
   "source": [
    "# Configure the attack\n",
    "numKeys = 16              # number of subkey bytes to attack\n",
    "cpaConf['plot'] = True    # generate plots, [True|False]\n",
    "#####################\n",
    "# Run the attack\n",
    "cpaAttacker = cpa.CPA()\n",
    "C = cpaAttacker.doCPA(measuredPower=measuredPower,\n",
    "                      hypotheticalPower=hypotheticalPower,\n",
    "                      numTraces= cpaConf['traceNum'],\n",
    "                      analysisDir=analysisDir,\n",
    "                      MTDStride= 100,\n",
    "                      numKeys = numKeys,\n",
    "                      plot= cpaConf['plot'], # enable/disable plots\n",
    "                      plotSize=(10,8),\n",
    "                      plotFontSize=18\n",
    "                      )"
   ]
  },
  {
   "cell_type": "code",
   "execution_count": null,
   "metadata": {},
   "outputs": [],
   "source": [
    "# Writing analysis configuration to file.\n",
    "configFile = open(os.path.join(analysisDir, 'analysisConfig.json'), \"w\")\n",
    "configFile.write(json.dumps(cpaConf, indent=4))\n",
    "configFile.close()"
   ]
  },
  {
   "cell_type": "code",
   "execution_count": null,
   "metadata": {},
   "outputs": [],
   "source": [
    "scope.closeConnection()"
   ]
  },
  {
   "cell_type": "code",
   "execution_count": null,
   "metadata": {},
   "outputs": [],
   "source": []
  }
 ],
 "metadata": {
  "kernelspec": {
   "display_name": "Python 3 (ipykernel)",
   "language": "python",
   "name": "python3"
  },
  "language_info": {
   "codemirror_mode": {
    "name": "ipython",
    "version": 3
   },
   "file_extension": ".py",
   "mimetype": "text/x-python",
   "name": "python",
   "nbconvert_exporter": "python",
   "pygments_lexer": "ipython3",
   "version": "3.10.6"
  }
 },
 "nbformat": 4,
 "nbformat_minor": 4
}
