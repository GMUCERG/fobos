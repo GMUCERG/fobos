{
 "cells": [
  {
   "cell_type": "markdown",
   "metadata": {},
   "source": [
    "## AES-128 Trace Capture"
   ]
  },
  {
   "cell_type": "code",
   "execution_count": null,
   "metadata": {},
   "outputs": [],
   "source": [
    "# capture using FOBOS3\n",
    "# requires PYNQ FOBOS3 board\n",
    "# requires FOBOS3 shield\n",
    "import os\n",
    "import sys\n",
    "import numpy as np\n",
    "import shutil\n",
    "import json\n",
    "import foboslib as fb\n",
    "from foboslib.capture.ctrl.pynqctrl import PYNQCtrl\n",
    "from foboslib.common.projmgr import ProjectManager\n",
    "from foboslib.capture.fobosTVGen import FobosTVGen"
   ]
  },
  {
   "cell_type": "code",
   "execution_count": null,
   "metadata": {},
   "outputs": [],
   "source": [
    "# Acquisition Configuration\n",
    "cfg                     = {}\n",
    "\n",
    "# Connection to bontrol board\n",
    "cfg['ip']               = '192.168.10.99'\n",
    "cfg['port']             = 9995\n",
    "\n",
    "# Project\n",
    "cfg['workspace']        = \"fobosworkspace\"       # Folder to store projects\n",
    "cfg['projectName']      = \"aes\"                  # Name of this project. Files will be in workspace/projectName/\n",
    "cfg['bitFile']          = 'half_duplex_dut.bit'\n",
    "\n",
    "# Data files\n",
    "cfg['keyFile']          = \"key.txt\"              # key used for encryption / decryption\n",
    "cfg['bitFile']          = \"half_duplex_dut.bit\"  # Bitstream for programming the DUT (target) \n",
    "cfg['plainFile']        = \"plaintext.txt\"        # plaintext in hex\n",
    "cfg['dinFile']          = \"dinFile.txt\"          # test vectors in FOBOS format incl. plaintext and key\n",
    "cfg['cipherFile']       = \"ciphertext.txt\"       # observed ciphertext, result from applying test vectors\n",
    "cfg['traceFile']        = \"powerTraces.npy\"      # Name of file for recording power traces\n",
    "\n",
    "# Cipher-specific parameters\n",
    "cfg['blockSize']        = 16                     # size of a block of plaintext in bytes\n",
    "cfg['cipherSize']       = 16                     # size of a block of ciphertext in bytes\n",
    "cfg['keySize']          = 16                     # size of the key in bytes"
   ]
  },
  {
   "cell_type": "code",
   "execution_count": null,
   "metadata": {},
   "outputs": [],
   "source": [
    "#Acquistion/scope configuration\n",
    "cfg['traceNum']         = 100                   # number of traces to run\n",
    "cfg['DUTClk']           = 1                     # clock frequency of the DUT in KHz, [range: 1000 - 100000]\n",
    "cfg['samplingFreq']     = 50                    # sampling frequency of the Oscilloscope in Msps [default: 50][range: 1 - 100]\n",
    "cfg['samplesPerTrace']  = 1000                  # number of sample in one trace [range: 1 - 2^17]\n",
    "cfg['ADCGain']          = 60                     # amplification of ADC input signal [default: 40][range: 0 - 60]\n",
    "cfg['ADCHiLo']          = 1"
   ]
  },
  {
   "cell_type": "code",
   "execution_count": null,
   "metadata": {},
   "outputs": [],
   "source": [
    "# Configure project directories\n",
    "pm = ProjectManager()\n",
    "pm.setWorkSpaceDir(cfg['workspace'])\n",
    "pm.setProjName(cfg['projectName'])\n",
    "projDir = pm.getProjDir()"
   ]
  },
  {
   "cell_type": "code",
   "execution_count": null,
   "metadata": {},
   "outputs": [],
   "source": [
    "# Generate test vectors\n",
    "tvGen = FobosTVGen(traceNum=cfg['traceNum'],\n",
    "                   blockSize=cfg['blockSize'],\n",
    "                   keySize=cfg['keySize'],\n",
    "                   cipherSize=cfg['cipherSize'],\n",
    "                   dinFile= os.path.join(projDir, cfg['dinFile']),\n",
    "                   plaintextFile=os.path.join(projDir, cfg['plainFile']),\n",
    "                   keyFile=os.path.join(projDir, cfg['keyFile'])\n",
    "                   )\n",
    "tvGen.generateTVs()"
   ]
  },
  {
   "cell_type": "code",
   "execution_count": null,
   "metadata": {},
   "outputs": [],
   "source": [
    "ctrl = PYNQCtrl(cfg['ip'], cfg['port'])"
   ]
  },
  {
   "cell_type": "code",
   "execution_count": null,
   "metadata": {},
   "outputs": [],
   "source": [
    "ctrl.setDUTClk(cfg['DUTClk'])\n",
    "ctrl.setDUTInterface(fb.INTERFACE_4BIT)\n",
    "ctrl.setOutLen(cfg['cipherSize'])\n",
    "ctrl.setTriggerMode(fb.TRG_FULL)\n",
    "ctrl.setSamplingFrequency(cfg['samplingFreq'])\n",
    "ctrl.setADCGain(cfg['ADCGain'])\n",
    "ctrl.setADCHiLo(cfg['ADCHiLo'])\n",
    "ctrl.setSamplesPerTrace(cfg['samplesPerTrace'])"
   ]
  },
  {
   "cell_type": "code",
   "execution_count": null,
   "metadata": {},
   "outputs": [],
   "source": [
    "# Create capture directory\n",
    "captureDir          = pm.getCaptureDir()\n",
    "# Copy data and configuration files to capture directory\n",
    "tvFileName          = os.path.join(projDir, cfg['dinFile'])\n",
    "plainFileName       = os.path.join(projDir, cfg['plainFile'])\n",
    "cipherFileName      = os.path.join(captureDir, cfg['cipherFile'])\n",
    "traceFileName       = os.path.join(captureDir, cfg['traceFile'])\n",
    "tvFile              = open(tvFileName, \"r\")\n",
    "cipherFile          = open(cipherFileName, \"w\")\n",
    "traceFile           = open(traceFileName, \"a+b\")\n",
    "shutil.copy(tvFileName, captureDir)\n",
    "shutil.copy(plainFileName, captureDir)\n",
    "# save config to a file\n",
    "configFile = open(os.path.join(captureDir, 'acquisitionConfig.json'), \"w\")\n",
    "configFile.write(json.dumps(cfg, indent=4))"
   ]
  },
  {
   "cell_type": "code",
   "execution_count": null,
   "metadata": {},
   "outputs": [],
   "source": [
    "# Trace collection loop\n",
    "print('Processing test vectors ...')\n",
    "traceNum = 0\n",
    "while traceNum < cfg['traceNum']:\n",
    "    data = tvFile.readline()\n",
    "    status, result, trace = ctrl.processData2(data, cfg['cipherSize'])\n",
    "    cipherFile.write(result + \"\\n\")\n",
    "    np.save(traceFile, trace)\n",
    "    if traceNum % 100 == 0:\n",
    "        sys.stdout.write('Progress:' + \"{:.2f}\".format(traceNum/cfg['traceNum']*100) + '%\\r')\n",
    "        sys.stdout.flush()\n",
    "    traceNum += 1\n",
    "print('Data acquisition complete.')\n"
   ]
  },
  {
   "cell_type": "code",
   "execution_count": null,
   "metadata": {},
   "outputs": [],
   "source": [
    "# Close IO\n",
    "ctrl.disconnect()\n",
    "traceFile.close()\n",
    "cipherFile.close()\n",
    "tvFile.close()"
   ]
  },
  {
   "cell_type": "code",
   "execution_count": null,
   "metadata": {},
   "outputs": [],
   "source": [
    "import matplotlib.pyplot as plt\n",
    "fig = plt.figure()\n",
    "fig.patch.set_facecolor('white')\n",
    "plt.rcParams.update({'font.size': 18})\n",
    "traceFile = open(traceFileName, \"r+b\")\n",
    "maxtrace = 1\n",
    "plt.figure(figsize=(10,8))\n",
    "plt.xlabel('Sample')\n",
    "plt.ylabel('Amplitude')\n",
    "plt.title('Captured Traces')\n",
    "for i in range(min(maxtrace, cfg['traceNum'])):\n",
    "    trace = np.load(traceFile)\n",
    "    plt.plot(trace)\n",
    "\n",
    "plt.savefig(os.path.join(captureDir, 'traces.png'),facecolor=fig.get_facecolor())\n",
    "# plt.close()\n",
    "traceFile.close()"
   ]
  }
 ],
 "metadata": {
  "kernelspec": {
   "display_name": "Python 3 (ipykernel)",
   "language": "python",
   "name": "python3"
  },
  "language_info": {
   "codemirror_mode": {
    "name": "ipython",
    "version": 3
   },
   "file_extension": ".py",
   "mimetype": "text/x-python",
   "name": "python",
   "nbconvert_exporter": "python",
   "pygments_lexer": "ipython3",
   "version": "3.8.18"
  },
  "toc-autonumbering": false,
  "toc-showcode": false,
  "toc-showmarkdowntxt": false
 },
 "nbformat": 4,
 "nbformat_minor": 4
}
